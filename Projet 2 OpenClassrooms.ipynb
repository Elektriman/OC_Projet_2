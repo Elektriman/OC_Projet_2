{
 "cells": [
  {
   "cell_type": "markdown",
   "id": "357d2b23",
   "metadata": {},
   "source": [
    "# Projet 2"
   ]
  },
  {
   "cell_type": "markdown",
   "id": "7734304f",
   "metadata": {},
   "source": [
    "## Sommaire\n",
    "\n",
    "► consigne </br>\n",
    "► setup </br>\n",
    "► analyse qualitative </br>\n",
    "► analyse quantative </br>\n",
    "► évaluation"
   ]
  },
  {
   "cell_type": "markdown",
   "id": "35c57537",
   "metadata": {},
   "source": [
    "***\n",
    "# consigne"
   ]
  },
  {
   "cell_type": "markdown",
   "id": "8dc5d121",
   "metadata": {},
   "source": [
    "Mark, votre manager, vous a convié à une réunion pour vous présenter le projet d’expansion à l’international de l’entreprise. Il vous confie une première mission d’analyse exploratoire, pour déterminer si les données sur l’éducation de la banque mondiale permettent d’informer le projet d’expansion.\n",
    "\n",
    "Voici les différentes questions que Mark aimerait explorer, que vous avez notées durant la réunion :\n",
    "\n",
    " - Quels sont les pays avec un fort potentiel de clients pour nos services ?\n",
    " - Pour chacun de ces pays, quelle sera l’évolution de ce potentiel de clients ?\n",
    " - Dans quels pays l'entreprise doit-elle opérer en priorité ?\n",
    "Votre mission\n",
    "Mark vous a donc demandé de réaliser une analyse pré-exploratoire de ce jeu de données. Il vous a transmis cet email à la suite de la réunion :"
   ]
  },
  {
   "cell_type": "markdown",
   "id": "3bf85f82",
   "metadata": {},
   "source": [
    "*Hello,*\n",
    "\n",
    "*Les données de la Banque mondiale sont disponibles à l’adresse suivante :*\n",
    "\n",
    "*https://datacatalog.worldbank.org/dataset/education-statistics*\n",
    "\n",
    "*Ou en téléchargement direct à ce lien.*\n",
    "\n",
    "*Je te laisse regarder la page d'accueil qui décrit le jeu de données. En résumé, l’organisme “EdStats All Indicator Query” de la Banque mondiale répertorie 4000 indicateurs internationaux décrivant l’accès à l’éducation, l’obtention de diplômes et des informations relatives aux professeurs, aux dépenses liées à l’éducation... Tu trouveras plus d'info sur ce site :*\n",
    "\n",
    "*http://datatopics.worldbank.org/education/*\n",
    "\n",
    "*Pour la pré-analyse, pourrais-tu :*\n",
    "\n",
    " - *Valider la qualité de ce jeu de données (comporte-t-il beaucoup de données manquantes, dupliquées ?)*\n",
    " - *Décrire les informations contenues dans le jeu de données (nombre de colonnes ? nombre de lignes ?)*\n",
    " - *Sélectionner les informations qui semblent pertinentes pour répondre à la problématique (quelles sont les colonnes contenant des informations qui peuvent être utiles pour répondre à la problématique de l’entreprise ?)*\n",
    " - *Déterminer des ordres de grandeurs des indicateurs statistiques classiques pour les différentes zones géographiques et pays du monde (moyenne/médiane/écart-type par pays et par continent ou bloc géographique)*\n",
    " \n",
    "*Ton travail va nous permettre de déterminer si ce jeu de données peut informer les décisions d'ouverture vers de nouveaux pays. On va partager ton analyse avec le board, alors merci de soigner la présentation et de l'illustrer avec des graphiques pertinents et lisibles !*"
   ]
  },
  {
   "cell_type": "markdown",
   "id": "56d9d276",
   "metadata": {},
   "source": [
    "Livrables attendus\n",
    " - Un notebook comportant les analyses pré-exploratoires réalisées (non cleané, pour comprendre votre démarche).\n",
    " - Un support de présentation pour la soutenance."
   ]
  },
  {
   "cell_type": "markdown",
   "id": "f5d6adb6",
   "metadata": {},
   "source": [
    "***\n",
    "# Setup"
   ]
  },
  {
   "cell_type": "markdown",
   "id": "dd219335",
   "metadata": {},
   "source": [
    "### import des bibliothèques"
   ]
  },
  {
   "cell_type": "code",
   "execution_count": 1,
   "id": "181e051a",
   "metadata": {},
   "outputs": [],
   "source": [
    "import numpy as np\n",
    "import pandas as pd\n",
    "%matplotlib notebook\n",
    "import matplotlib.pyplot as plt\n",
    "import missingno as msno\n",
    "import ipywidgets as widgets\n",
    "\n",
    "from datetime import datetime, timezone, timedelta, date\n",
    "from IPython.display import display as Idisplay\n",
    "from IPython.display import clear_output\n",
    "from matplotlib import pylab\n",
    "\n",
    "import warnings\n",
    "warnings.filterwarnings('ignore')\n",
    "\n",
    "pd.set_option('display.float_format', lambda x: '%.3f' % x)"
   ]
  },
  {
   "cell_type": "markdown",
   "id": "6aeb5283",
   "metadata": {},
   "source": [
    "### import des données"
   ]
  },
  {
   "cell_type": "code",
   "execution_count": 2,
   "id": "ff04bd0e",
   "metadata": {},
   "outputs": [],
   "source": [
    "EdStatsCountry = pd.read_csv(\"csv_data/EdStatsCountry.csv\")\n",
    "EdStatsCountry_Series = pd.read_csv(\"csv_data/EdStatsCountry-Series.csv\")\n",
    "EdStatsData = pd.read_csv(\"csv_data/EdStatsData.csv\")\n",
    "EdStatsFootNote = pd.read_csv(\"csv_data/EdStatsFootNote.csv\")\n",
    "EdStatsSeries = pd.read_csv(\"csv_data/EdStatsSeries.csv\")"
   ]
  },
  {
   "cell_type": "markdown",
   "id": "6c23d6da",
   "metadata": {},
   "source": [
    "***\n",
    "# Analyse Qualitative"
   ]
  },
  {
   "cell_type": "markdown",
   "id": "082309de",
   "metadata": {},
   "source": [
    "premier coup d'oeuil avec une carte des liens entre les tables"
   ]
  },
  {
   "cell_type": "markdown",
   "id": "188482e5",
   "metadata": {},
   "source": [
    "![title](table_chart.png)"
   ]
  },
  {
   "cell_type": "markdown",
   "id": "79c0dd04",
   "metadata": {},
   "source": [
    "### affichage des données manquantes sous forme de matrice binaire (Noir = présent, Blanc = manquant)"
   ]
  },
  {
   "cell_type": "code",
   "execution_count": 3,
   "id": "654fc462",
   "metadata": {
    "scrolled": false
   },
   "outputs": [],
   "source": [
    "Tables = [EdStatsCountry, EdStatsCountry_Series, EdStatsData, EdStatsFootNote, EdStatsSeries]\n",
    "T_Names = [\"EdStatsCountry\", \"EdStatsCountry-Series\", \"EdStatsData\", \"EdStatsFootNote\", \"EdStatsSeries\"]\n",
    "for t,n in zip(Tables, T_Names):\n",
    "    t.name = n\n",
    "\n",
    "def draw_missing_values(ds_str, fig, ax):\n",
    "    t = Tables[T_Names.index(ds_str)]\n",
    "    msno.matrix(t, ax=ax, sparkline=False)\n",
    "    ax.set_title(t.name)\n",
    "    fig.tight_layout(pad=2)"
   ]
  },
  {
   "cell_type": "code",
   "execution_count": 4,
   "id": "6dc13c73",
   "metadata": {},
   "outputs": [
    {
     "data": {
      "text/plain": "<IPython.core.display.Javascript object>",
      "application/javascript": "/* Put everything inside the global mpl namespace */\n/* global mpl */\nwindow.mpl = {};\n\nmpl.get_websocket_type = function () {\n    if (typeof WebSocket !== 'undefined') {\n        return WebSocket;\n    } else if (typeof MozWebSocket !== 'undefined') {\n        return MozWebSocket;\n    } else {\n        alert(\n            'Your browser does not have WebSocket support. ' +\n                'Please try Chrome, Safari or Firefox ≥ 6. ' +\n                'Firefox 4 and 5 are also supported but you ' +\n                'have to enable WebSockets in about:config.'\n        );\n    }\n};\n\nmpl.figure = function (figure_id, websocket, ondownload, parent_element) {\n    this.id = figure_id;\n\n    this.ws = websocket;\n\n    this.supports_binary = this.ws.binaryType !== undefined;\n\n    if (!this.supports_binary) {\n        var warnings = document.getElementById('mpl-warnings');\n        if (warnings) {\n            warnings.style.display = 'block';\n            warnings.textContent =\n                'This browser does not support binary websocket messages. ' +\n                'Performance may be slow.';\n        }\n    }\n\n    this.imageObj = new Image();\n\n    this.context = undefined;\n    this.message = undefined;\n    this.canvas = undefined;\n    this.rubberband_canvas = undefined;\n    this.rubberband_context = undefined;\n    this.format_dropdown = undefined;\n\n    this.image_mode = 'full';\n\n    this.root = document.createElement('div');\n    this.root.setAttribute('style', 'display: inline-block');\n    this._root_extra_style(this.root);\n\n    parent_element.appendChild(this.root);\n\n    this._init_header(this);\n    this._init_canvas(this);\n    this._init_toolbar(this);\n\n    var fig = this;\n\n    this.waiting = false;\n\n    this.ws.onopen = function () {\n        fig.send_message('supports_binary', { value: fig.supports_binary });\n        fig.send_message('send_image_mode', {});\n        if (fig.ratio !== 1) {\n            fig.send_message('set_device_pixel_ratio', {\n                device_pixel_ratio: fig.ratio,\n            });\n        }\n        fig.send_message('refresh', {});\n    };\n\n    this.imageObj.onload = function () {\n        if (fig.image_mode === 'full') {\n            // Full images could contain transparency (where diff images\n            // almost always do), so we need to clear the canvas so that\n            // there is no ghosting.\n            fig.context.clearRect(0, 0, fig.canvas.width, fig.canvas.height);\n        }\n        fig.context.drawImage(fig.imageObj, 0, 0);\n    };\n\n    this.imageObj.onunload = function () {\n        fig.ws.close();\n    };\n\n    this.ws.onmessage = this._make_on_message_function(this);\n\n    this.ondownload = ondownload;\n};\n\nmpl.figure.prototype._init_header = function () {\n    var titlebar = document.createElement('div');\n    titlebar.classList =\n        'ui-dialog-titlebar ui-widget-header ui-corner-all ui-helper-clearfix';\n    var titletext = document.createElement('div');\n    titletext.classList = 'ui-dialog-title';\n    titletext.setAttribute(\n        'style',\n        'width: 100%; text-align: center; padding: 3px;'\n    );\n    titlebar.appendChild(titletext);\n    this.root.appendChild(titlebar);\n    this.header = titletext;\n};\n\nmpl.figure.prototype._canvas_extra_style = function (_canvas_div) {};\n\nmpl.figure.prototype._root_extra_style = function (_canvas_div) {};\n\nmpl.figure.prototype._init_canvas = function () {\n    var fig = this;\n\n    var canvas_div = (this.canvas_div = document.createElement('div'));\n    canvas_div.setAttribute('tabindex', '0');\n    canvas_div.setAttribute(\n        'style',\n        'border: 1px solid #ddd;' +\n            'box-sizing: content-box;' +\n            'clear: both;' +\n            'min-height: 1px;' +\n            'min-width: 1px;' +\n            'outline: 0;' +\n            'overflow: hidden;' +\n            'position: relative;' +\n            'resize: both;' +\n            'z-index: 2;'\n    );\n\n    function on_keyboard_event_closure(name) {\n        return function (event) {\n            return fig.key_event(event, name);\n        };\n    }\n\n    canvas_div.addEventListener(\n        'keydown',\n        on_keyboard_event_closure('key_press')\n    );\n    canvas_div.addEventListener(\n        'keyup',\n        on_keyboard_event_closure('key_release')\n    );\n\n    this._canvas_extra_style(canvas_div);\n    this.root.appendChild(canvas_div);\n\n    var canvas = (this.canvas = document.createElement('canvas'));\n    canvas.classList.add('mpl-canvas');\n    canvas.setAttribute(\n        'style',\n        'box-sizing: content-box;' +\n            'pointer-events: none;' +\n            'position: relative;' +\n            'z-index: 0;'\n    );\n\n    this.context = canvas.getContext('2d');\n\n    var backingStore =\n        this.context.backingStorePixelRatio ||\n        this.context.webkitBackingStorePixelRatio ||\n        this.context.mozBackingStorePixelRatio ||\n        this.context.msBackingStorePixelRatio ||\n        this.context.oBackingStorePixelRatio ||\n        this.context.backingStorePixelRatio ||\n        1;\n\n    this.ratio = (window.devicePixelRatio || 1) / backingStore;\n\n    var rubberband_canvas = (this.rubberband_canvas = document.createElement(\n        'canvas'\n    ));\n    rubberband_canvas.setAttribute(\n        'style',\n        'box-sizing: content-box;' +\n            'left: 0;' +\n            'pointer-events: none;' +\n            'position: absolute;' +\n            'top: 0;' +\n            'z-index: 1;'\n    );\n\n    // Apply a ponyfill if ResizeObserver is not implemented by browser.\n    if (this.ResizeObserver === undefined) {\n        if (window.ResizeObserver !== undefined) {\n            this.ResizeObserver = window.ResizeObserver;\n        } else {\n            var obs = _JSXTOOLS_RESIZE_OBSERVER({});\n            this.ResizeObserver = obs.ResizeObserver;\n        }\n    }\n\n    this.resizeObserverInstance = new this.ResizeObserver(function (entries) {\n        var nentries = entries.length;\n        for (var i = 0; i < nentries; i++) {\n            var entry = entries[i];\n            var width, height;\n            if (entry.contentBoxSize) {\n                if (entry.contentBoxSize instanceof Array) {\n                    // Chrome 84 implements new version of spec.\n                    width = entry.contentBoxSize[0].inlineSize;\n                    height = entry.contentBoxSize[0].blockSize;\n                } else {\n                    // Firefox implements old version of spec.\n                    width = entry.contentBoxSize.inlineSize;\n                    height = entry.contentBoxSize.blockSize;\n                }\n            } else {\n                // Chrome <84 implements even older version of spec.\n                width = entry.contentRect.width;\n                height = entry.contentRect.height;\n            }\n\n            // Keep the size of the canvas and rubber band canvas in sync with\n            // the canvas container.\n            if (entry.devicePixelContentBoxSize) {\n                // Chrome 84 implements new version of spec.\n                canvas.setAttribute(\n                    'width',\n                    entry.devicePixelContentBoxSize[0].inlineSize\n                );\n                canvas.setAttribute(\n                    'height',\n                    entry.devicePixelContentBoxSize[0].blockSize\n                );\n            } else {\n                canvas.setAttribute('width', width * fig.ratio);\n                canvas.setAttribute('height', height * fig.ratio);\n            }\n            /* This rescales the canvas back to display pixels, so that it\n             * appears correct on HiDPI screens. */\n            canvas.style.width = width + 'px';\n            canvas.style.height = height + 'px';\n\n            rubberband_canvas.setAttribute('width', width);\n            rubberband_canvas.setAttribute('height', height);\n\n            // And update the size in Python. We ignore the initial 0/0 size\n            // that occurs as the element is placed into the DOM, which should\n            // otherwise not happen due to the minimum size styling.\n            if (fig.ws.readyState == 1 && width != 0 && height != 0) {\n                fig.request_resize(width, height);\n            }\n        }\n    });\n    this.resizeObserverInstance.observe(canvas_div);\n\n    function on_mouse_event_closure(name) {\n        /* User Agent sniffing is bad, but WebKit is busted:\n         * https://bugs.webkit.org/show_bug.cgi?id=144526\n         * https://bugs.webkit.org/show_bug.cgi?id=181818\n         * The worst that happens here is that they get an extra browser\n         * selection when dragging, if this check fails to catch them.\n         */\n        var UA = navigator.userAgent;\n        var isWebKit = /AppleWebKit/.test(UA) && !/Chrome/.test(UA);\n        if(isWebKit) {\n            return function (event) {\n                /* This prevents the web browser from automatically changing to\n                 * the text insertion cursor when the button is pressed. We\n                 * want to control all of the cursor setting manually through\n                 * the 'cursor' event from matplotlib */\n                event.preventDefault()\n                return fig.mouse_event(event, name);\n            };\n        } else {\n            return function (event) {\n                return fig.mouse_event(event, name);\n            };\n        }\n    }\n\n    canvas_div.addEventListener(\n        'mousedown',\n        on_mouse_event_closure('button_press')\n    );\n    canvas_div.addEventListener(\n        'mouseup',\n        on_mouse_event_closure('button_release')\n    );\n    canvas_div.addEventListener(\n        'dblclick',\n        on_mouse_event_closure('dblclick')\n    );\n    // Throttle sequential mouse events to 1 every 20ms.\n    canvas_div.addEventListener(\n        'mousemove',\n        on_mouse_event_closure('motion_notify')\n    );\n\n    canvas_div.addEventListener(\n        'mouseenter',\n        on_mouse_event_closure('figure_enter')\n    );\n    canvas_div.addEventListener(\n        'mouseleave',\n        on_mouse_event_closure('figure_leave')\n    );\n\n    canvas_div.addEventListener('wheel', function (event) {\n        if (event.deltaY < 0) {\n            event.step = 1;\n        } else {\n            event.step = -1;\n        }\n        on_mouse_event_closure('scroll')(event);\n    });\n\n    canvas_div.appendChild(canvas);\n    canvas_div.appendChild(rubberband_canvas);\n\n    this.rubberband_context = rubberband_canvas.getContext('2d');\n    this.rubberband_context.strokeStyle = '#000000';\n\n    this._resize_canvas = function (width, height, forward) {\n        if (forward) {\n            canvas_div.style.width = width + 'px';\n            canvas_div.style.height = height + 'px';\n        }\n    };\n\n    // Disable right mouse context menu.\n    canvas_div.addEventListener('contextmenu', function (_e) {\n        event.preventDefault();\n        return false;\n    });\n\n    function set_focus() {\n        canvas.focus();\n        canvas_div.focus();\n    }\n\n    window.setTimeout(set_focus, 100);\n};\n\nmpl.figure.prototype._init_toolbar = function () {\n    var fig = this;\n\n    var toolbar = document.createElement('div');\n    toolbar.classList = 'mpl-toolbar';\n    this.root.appendChild(toolbar);\n\n    function on_click_closure(name) {\n        return function (_event) {\n            return fig.toolbar_button_onclick(name);\n        };\n    }\n\n    function on_mouseover_closure(tooltip) {\n        return function (event) {\n            if (!event.currentTarget.disabled) {\n                return fig.toolbar_button_onmouseover(tooltip);\n            }\n        };\n    }\n\n    fig.buttons = {};\n    var buttonGroup = document.createElement('div');\n    buttonGroup.classList = 'mpl-button-group';\n    for (var toolbar_ind in mpl.toolbar_items) {\n        var name = mpl.toolbar_items[toolbar_ind][0];\n        var tooltip = mpl.toolbar_items[toolbar_ind][1];\n        var image = mpl.toolbar_items[toolbar_ind][2];\n        var method_name = mpl.toolbar_items[toolbar_ind][3];\n\n        if (!name) {\n            /* Instead of a spacer, we start a new button group. */\n            if (buttonGroup.hasChildNodes()) {\n                toolbar.appendChild(buttonGroup);\n            }\n            buttonGroup = document.createElement('div');\n            buttonGroup.classList = 'mpl-button-group';\n            continue;\n        }\n\n        var button = (fig.buttons[name] = document.createElement('button'));\n        button.classList = 'mpl-widget';\n        button.setAttribute('role', 'button');\n        button.setAttribute('aria-disabled', 'false');\n        button.addEventListener('click', on_click_closure(method_name));\n        button.addEventListener('mouseover', on_mouseover_closure(tooltip));\n\n        var icon_img = document.createElement('img');\n        icon_img.src = '_images/' + image + '.png';\n        icon_img.srcset = '_images/' + image + '_large.png 2x';\n        icon_img.alt = tooltip;\n        button.appendChild(icon_img);\n\n        buttonGroup.appendChild(button);\n    }\n\n    if (buttonGroup.hasChildNodes()) {\n        toolbar.appendChild(buttonGroup);\n    }\n\n    var fmt_picker = document.createElement('select');\n    fmt_picker.classList = 'mpl-widget';\n    toolbar.appendChild(fmt_picker);\n    this.format_dropdown = fmt_picker;\n\n    for (var ind in mpl.extensions) {\n        var fmt = mpl.extensions[ind];\n        var option = document.createElement('option');\n        option.selected = fmt === mpl.default_extension;\n        option.innerHTML = fmt;\n        fmt_picker.appendChild(option);\n    }\n\n    var status_bar = document.createElement('span');\n    status_bar.classList = 'mpl-message';\n    toolbar.appendChild(status_bar);\n    this.message = status_bar;\n};\n\nmpl.figure.prototype.request_resize = function (x_pixels, y_pixels) {\n    // Request matplotlib to resize the figure. Matplotlib will then trigger a resize in the client,\n    // which will in turn request a refresh of the image.\n    this.send_message('resize', { width: x_pixels, height: y_pixels });\n};\n\nmpl.figure.prototype.send_message = function (type, properties) {\n    properties['type'] = type;\n    properties['figure_id'] = this.id;\n    this.ws.send(JSON.stringify(properties));\n};\n\nmpl.figure.prototype.send_draw_message = function () {\n    if (!this.waiting) {\n        this.waiting = true;\n        this.ws.send(JSON.stringify({ type: 'draw', figure_id: this.id }));\n    }\n};\n\nmpl.figure.prototype.handle_save = function (fig, _msg) {\n    var format_dropdown = fig.format_dropdown;\n    var format = format_dropdown.options[format_dropdown.selectedIndex].value;\n    fig.ondownload(fig, format);\n};\n\nmpl.figure.prototype.handle_resize = function (fig, msg) {\n    var size = msg['size'];\n    if (size[0] !== fig.canvas.width || size[1] !== fig.canvas.height) {\n        fig._resize_canvas(size[0], size[1], msg['forward']);\n        fig.send_message('refresh', {});\n    }\n};\n\nmpl.figure.prototype.handle_rubberband = function (fig, msg) {\n    var x0 = msg['x0'] / fig.ratio;\n    var y0 = (fig.canvas.height - msg['y0']) / fig.ratio;\n    var x1 = msg['x1'] / fig.ratio;\n    var y1 = (fig.canvas.height - msg['y1']) / fig.ratio;\n    x0 = Math.floor(x0) + 0.5;\n    y0 = Math.floor(y0) + 0.5;\n    x1 = Math.floor(x1) + 0.5;\n    y1 = Math.floor(y1) + 0.5;\n    var min_x = Math.min(x0, x1);\n    var min_y = Math.min(y0, y1);\n    var width = Math.abs(x1 - x0);\n    var height = Math.abs(y1 - y0);\n\n    fig.rubberband_context.clearRect(\n        0,\n        0,\n        fig.canvas.width / fig.ratio,\n        fig.canvas.height / fig.ratio\n    );\n\n    fig.rubberband_context.strokeRect(min_x, min_y, width, height);\n};\n\nmpl.figure.prototype.handle_figure_label = function (fig, msg) {\n    // Updates the figure title.\n    fig.header.textContent = msg['label'];\n};\n\nmpl.figure.prototype.handle_cursor = function (fig, msg) {\n    fig.canvas_div.style.cursor = msg['cursor'];\n};\n\nmpl.figure.prototype.handle_message = function (fig, msg) {\n    fig.message.textContent = msg['message'];\n};\n\nmpl.figure.prototype.handle_draw = function (fig, _msg) {\n    // Request the server to send over a new figure.\n    fig.send_draw_message();\n};\n\nmpl.figure.prototype.handle_image_mode = function (fig, msg) {\n    fig.image_mode = msg['mode'];\n};\n\nmpl.figure.prototype.handle_history_buttons = function (fig, msg) {\n    for (var key in msg) {\n        if (!(key in fig.buttons)) {\n            continue;\n        }\n        fig.buttons[key].disabled = !msg[key];\n        fig.buttons[key].setAttribute('aria-disabled', !msg[key]);\n    }\n};\n\nmpl.figure.prototype.handle_navigate_mode = function (fig, msg) {\n    if (msg['mode'] === 'PAN') {\n        fig.buttons['Pan'].classList.add('active');\n        fig.buttons['Zoom'].classList.remove('active');\n    } else if (msg['mode'] === 'ZOOM') {\n        fig.buttons['Pan'].classList.remove('active');\n        fig.buttons['Zoom'].classList.add('active');\n    } else {\n        fig.buttons['Pan'].classList.remove('active');\n        fig.buttons['Zoom'].classList.remove('active');\n    }\n};\n\nmpl.figure.prototype.updated_canvas_event = function () {\n    // Called whenever the canvas gets updated.\n    this.send_message('ack', {});\n};\n\n// A function to construct a web socket function for onmessage handling.\n// Called in the figure constructor.\nmpl.figure.prototype._make_on_message_function = function (fig) {\n    return function socket_on_message(evt) {\n        if (evt.data instanceof Blob) {\n            var img = evt.data;\n            if (img.type !== 'image/png') {\n                /* FIXME: We get \"Resource interpreted as Image but\n                 * transferred with MIME type text/plain:\" errors on\n                 * Chrome.  But how to set the MIME type?  It doesn't seem\n                 * to be part of the websocket stream */\n                img.type = 'image/png';\n            }\n\n            /* Free the memory for the previous frames */\n            if (fig.imageObj.src) {\n                (window.URL || window.webkitURL).revokeObjectURL(\n                    fig.imageObj.src\n                );\n            }\n\n            fig.imageObj.src = (window.URL || window.webkitURL).createObjectURL(\n                img\n            );\n            fig.updated_canvas_event();\n            fig.waiting = false;\n            return;\n        } else if (\n            typeof evt.data === 'string' &&\n            evt.data.slice(0, 21) === 'data:image/png;base64'\n        ) {\n            fig.imageObj.src = evt.data;\n            fig.updated_canvas_event();\n            fig.waiting = false;\n            return;\n        }\n\n        var msg = JSON.parse(evt.data);\n        var msg_type = msg['type'];\n\n        // Call the  \"handle_{type}\" callback, which takes\n        // the figure and JSON message as its only arguments.\n        try {\n            var callback = fig['handle_' + msg_type];\n        } catch (e) {\n            console.log(\n                \"No handler for the '\" + msg_type + \"' message type: \",\n                msg\n            );\n            return;\n        }\n\n        if (callback) {\n            try {\n                // console.log(\"Handling '\" + msg_type + \"' message: \", msg);\n                callback(fig, msg);\n            } catch (e) {\n                console.log(\n                    \"Exception inside the 'handler_\" + msg_type + \"' callback:\",\n                    e,\n                    e.stack,\n                    msg\n                );\n            }\n        }\n    };\n};\n\n\n/*\n * return a copy of an object with only non-object keys\n * we need this to avoid circular references\n * https://stackoverflow.com/a/24161582/3208463\n */\nfunction simpleKeys(original) {\n    return Object.keys(original).reduce(function (obj, key) {\n        if (typeof original[key] !== 'object') {\n            obj[key] = original[key];\n        }\n        return obj;\n    }, {});\n}\n\nmpl.figure.prototype.mouse_event = function (event, name) {\n    if (name === 'button_press') {\n        this.canvas.focus();\n        this.canvas_div.focus();\n    }\n\n    // from https://stackoverflow.com/q/1114465\n    var boundingRect = this.canvas.getBoundingClientRect();\n    var x = (event.clientX - boundingRect.left) * this.ratio;\n    var y = (event.clientY - boundingRect.top) * this.ratio;\n\n    this.send_message(name, {\n        x: x,\n        y: y,\n        button: event.button,\n        step: event.step,\n        guiEvent: simpleKeys(event),\n    });\n\n    return false;\n};\n\nmpl.figure.prototype._key_event_extra = function (_event, _name) {\n    // Handle any extra behaviour associated with a key event\n};\n\nmpl.figure.prototype.key_event = function (event, name) {\n    // Prevent repeat events\n    if (name === 'key_press') {\n        if (event.key === this._key) {\n            return;\n        } else {\n            this._key = event.key;\n        }\n    }\n    if (name === 'key_release') {\n        this._key = null;\n    }\n\n    var value = '';\n    if (event.ctrlKey && event.key !== 'Control') {\n        value += 'ctrl+';\n    }\n    else if (event.altKey && event.key !== 'Alt') {\n        value += 'alt+';\n    }\n    else if (event.shiftKey && event.key !== 'Shift') {\n        value += 'shift+';\n    }\n\n    value += 'k' + event.key;\n\n    this._key_event_extra(event, name);\n\n    this.send_message(name, { key: value, guiEvent: simpleKeys(event) });\n    return false;\n};\n\nmpl.figure.prototype.toolbar_button_onclick = function (name) {\n    if (name === 'download') {\n        this.handle_save(this, null);\n    } else {\n        this.send_message('toolbar_button', { name: name });\n    }\n};\n\nmpl.figure.prototype.toolbar_button_onmouseover = function (tooltip) {\n    this.message.textContent = tooltip;\n};\n\n///////////////// REMAINING CONTENT GENERATED BY embed_js.py /////////////////\n// prettier-ignore\nvar _JSXTOOLS_RESIZE_OBSERVER=function(A){var t,i=new WeakMap,n=new WeakMap,a=new WeakMap,r=new WeakMap,o=new Set;function s(e){if(!(this instanceof s))throw new TypeError(\"Constructor requires 'new' operator\");i.set(this,e)}function h(){throw new TypeError(\"Function is not a constructor\")}function c(e,t,i,n){e=0 in arguments?Number(arguments[0]):0,t=1 in arguments?Number(arguments[1]):0,i=2 in arguments?Number(arguments[2]):0,n=3 in arguments?Number(arguments[3]):0,this.right=(this.x=this.left=e)+(this.width=i),this.bottom=(this.y=this.top=t)+(this.height=n),Object.freeze(this)}function d(){t=requestAnimationFrame(d);var s=new WeakMap,p=new Set;o.forEach((function(t){r.get(t).forEach((function(i){var r=t instanceof window.SVGElement,o=a.get(t),d=r?0:parseFloat(o.paddingTop),f=r?0:parseFloat(o.paddingRight),l=r?0:parseFloat(o.paddingBottom),u=r?0:parseFloat(o.paddingLeft),g=r?0:parseFloat(o.borderTopWidth),m=r?0:parseFloat(o.borderRightWidth),w=r?0:parseFloat(o.borderBottomWidth),b=u+f,F=d+l,v=(r?0:parseFloat(o.borderLeftWidth))+m,W=g+w,y=r?0:t.offsetHeight-W-t.clientHeight,E=r?0:t.offsetWidth-v-t.clientWidth,R=b+v,z=F+W,M=r?t.width:parseFloat(o.width)-R-E,O=r?t.height:parseFloat(o.height)-z-y;if(n.has(t)){var k=n.get(t);if(k[0]===M&&k[1]===O)return}n.set(t,[M,O]);var S=Object.create(h.prototype);S.target=t,S.contentRect=new c(u,d,M,O),s.has(i)||(s.set(i,[]),p.add(i)),s.get(i).push(S)}))})),p.forEach((function(e){i.get(e).call(e,s.get(e),e)}))}return s.prototype.observe=function(i){if(i instanceof window.Element){r.has(i)||(r.set(i,new Set),o.add(i),a.set(i,window.getComputedStyle(i)));var n=r.get(i);n.has(this)||n.add(this),cancelAnimationFrame(t),t=requestAnimationFrame(d)}},s.prototype.unobserve=function(i){if(i instanceof window.Element&&r.has(i)){var n=r.get(i);n.has(this)&&(n.delete(this),n.size||(r.delete(i),o.delete(i))),n.size||r.delete(i),o.size||cancelAnimationFrame(t)}},A.DOMRectReadOnly=c,A.ResizeObserver=s,A.ResizeObserverEntry=h,A}; // eslint-disable-line\nmpl.toolbar_items = [[\"Home\", \"Reset original view\", \"fa fa-home\", \"home\"], [\"Back\", \"Back to previous view\", \"fa fa-arrow-left\", \"back\"], [\"Forward\", \"Forward to next view\", \"fa fa-arrow-right\", \"forward\"], [\"\", \"\", \"\", \"\"], [\"Pan\", \"Left button pans, Right button zooms\\nx/y fixes axis, CTRL fixes aspect\", \"fa fa-arrows\", \"pan\"], [\"Zoom\", \"Zoom to rectangle\\nx/y fixes axis\", \"fa fa-square-o\", \"zoom\"], [\"\", \"\", \"\", \"\"], [\"Download\", \"Download plot\", \"fa fa-floppy-o\", \"download\"]];\n\nmpl.extensions = [\"eps\", \"jpeg\", \"pgf\", \"pdf\", \"png\", \"ps\", \"raw\", \"svg\", \"tif\", \"webp\"];\n\nmpl.default_extension = \"png\";/* global mpl */\n\nvar comm_websocket_adapter = function (comm) {\n    // Create a \"websocket\"-like object which calls the given IPython comm\n    // object with the appropriate methods. Currently this is a non binary\n    // socket, so there is still some room for performance tuning.\n    var ws = {};\n\n    ws.binaryType = comm.kernel.ws.binaryType;\n    ws.readyState = comm.kernel.ws.readyState;\n    function updateReadyState(_event) {\n        if (comm.kernel.ws) {\n            ws.readyState = comm.kernel.ws.readyState;\n        } else {\n            ws.readyState = 3; // Closed state.\n        }\n    }\n    comm.kernel.ws.addEventListener('open', updateReadyState);\n    comm.kernel.ws.addEventListener('close', updateReadyState);\n    comm.kernel.ws.addEventListener('error', updateReadyState);\n\n    ws.close = function () {\n        comm.close();\n    };\n    ws.send = function (m) {\n        //console.log('sending', m);\n        comm.send(m);\n    };\n    // Register the callback with on_msg.\n    comm.on_msg(function (msg) {\n        //console.log('receiving', msg['content']['data'], msg);\n        var data = msg['content']['data'];\n        if (data['blob'] !== undefined) {\n            data = {\n                data: new Blob(msg['buffers'], { type: data['blob'] }),\n            };\n        }\n        // Pass the mpl event to the overridden (by mpl) onmessage function.\n        ws.onmessage(data);\n    });\n    return ws;\n};\n\nmpl.mpl_figure_comm = function (comm, msg) {\n    // This is the function which gets called when the mpl process\n    // starts-up an IPython Comm through the \"matplotlib\" channel.\n\n    var id = msg.content.data.id;\n    // Get hold of the div created by the display call when the Comm\n    // socket was opened in Python.\n    var element = document.getElementById(id);\n    var ws_proxy = comm_websocket_adapter(comm);\n\n    function ondownload(figure, _format) {\n        window.open(figure.canvas.toDataURL());\n    }\n\n    var fig = new mpl.figure(id, ws_proxy, ondownload, element);\n\n    // Call onopen now - mpl needs it, as it is assuming we've passed it a real\n    // web socket which is closed, not our websocket->open comm proxy.\n    ws_proxy.onopen();\n\n    fig.parent_element = element;\n    fig.cell_info = mpl.find_output_cell(\"<div id='\" + id + \"'></div>\");\n    if (!fig.cell_info) {\n        console.error('Failed to find cell for figure', id, fig);\n        return;\n    }\n    fig.cell_info[0].output_area.element.on(\n        'cleared',\n        { fig: fig },\n        fig._remove_fig_handler\n    );\n};\n\nmpl.figure.prototype.handle_close = function (fig, msg) {\n    var width = fig.canvas.width / fig.ratio;\n    fig.cell_info[0].output_area.element.off(\n        'cleared',\n        fig._remove_fig_handler\n    );\n    fig.resizeObserverInstance.unobserve(fig.canvas_div);\n\n    // Update the output cell to use the data from the current canvas.\n    fig.push_to_output();\n    var dataURL = fig.canvas.toDataURL();\n    // Re-enable the keyboard manager in IPython - without this line, in FF,\n    // the notebook keyboard shortcuts fail.\n    IPython.keyboard_manager.enable();\n    fig.parent_element.innerHTML =\n        '<img src=\"' + dataURL + '\" width=\"' + width + '\">';\n    fig.close_ws(fig, msg);\n};\n\nmpl.figure.prototype.close_ws = function (fig, msg) {\n    fig.send_message('closing', msg);\n    // fig.ws.close()\n};\n\nmpl.figure.prototype.push_to_output = function (_remove_interactive) {\n    // Turn the data on the canvas into data in the output cell.\n    var width = this.canvas.width / this.ratio;\n    var dataURL = this.canvas.toDataURL();\n    this.cell_info[1]['text/html'] =\n        '<img src=\"' + dataURL + '\" width=\"' + width + '\">';\n};\n\nmpl.figure.prototype.updated_canvas_event = function () {\n    // Tell IPython that the notebook contents must change.\n    IPython.notebook.set_dirty(true);\n    this.send_message('ack', {});\n    var fig = this;\n    // Wait a second, then push the new image to the DOM so\n    // that it is saved nicely (might be nice to debounce this).\n    setTimeout(function () {\n        fig.push_to_output();\n    }, 1000);\n};\n\nmpl.figure.prototype._init_toolbar = function () {\n    var fig = this;\n\n    var toolbar = document.createElement('div');\n    toolbar.classList = 'btn-toolbar';\n    this.root.appendChild(toolbar);\n\n    function on_click_closure(name) {\n        return function (_event) {\n            return fig.toolbar_button_onclick(name);\n        };\n    }\n\n    function on_mouseover_closure(tooltip) {\n        return function (event) {\n            if (!event.currentTarget.disabled) {\n                return fig.toolbar_button_onmouseover(tooltip);\n            }\n        };\n    }\n\n    fig.buttons = {};\n    var buttonGroup = document.createElement('div');\n    buttonGroup.classList = 'btn-group';\n    var button;\n    for (var toolbar_ind in mpl.toolbar_items) {\n        var name = mpl.toolbar_items[toolbar_ind][0];\n        var tooltip = mpl.toolbar_items[toolbar_ind][1];\n        var image = mpl.toolbar_items[toolbar_ind][2];\n        var method_name = mpl.toolbar_items[toolbar_ind][3];\n\n        if (!name) {\n            /* Instead of a spacer, we start a new button group. */\n            if (buttonGroup.hasChildNodes()) {\n                toolbar.appendChild(buttonGroup);\n            }\n            buttonGroup = document.createElement('div');\n            buttonGroup.classList = 'btn-group';\n            continue;\n        }\n\n        button = fig.buttons[name] = document.createElement('button');\n        button.classList = 'btn btn-default';\n        button.href = '#';\n        button.title = name;\n        button.innerHTML = '<i class=\"fa ' + image + ' fa-lg\"></i>';\n        button.addEventListener('click', on_click_closure(method_name));\n        button.addEventListener('mouseover', on_mouseover_closure(tooltip));\n        buttonGroup.appendChild(button);\n    }\n\n    if (buttonGroup.hasChildNodes()) {\n        toolbar.appendChild(buttonGroup);\n    }\n\n    // Add the status bar.\n    var status_bar = document.createElement('span');\n    status_bar.classList = 'mpl-message pull-right';\n    toolbar.appendChild(status_bar);\n    this.message = status_bar;\n\n    // Add the close button to the window.\n    var buttongrp = document.createElement('div');\n    buttongrp.classList = 'btn-group inline pull-right';\n    button = document.createElement('button');\n    button.classList = 'btn btn-mini btn-primary';\n    button.href = '#';\n    button.title = 'Stop Interaction';\n    button.innerHTML = '<i class=\"fa fa-power-off icon-remove icon-large\"></i>';\n    button.addEventListener('click', function (_evt) {\n        fig.handle_close(fig, {});\n    });\n    button.addEventListener(\n        'mouseover',\n        on_mouseover_closure('Stop Interaction')\n    );\n    buttongrp.appendChild(button);\n    var titlebar = this.root.querySelector('.ui-dialog-titlebar');\n    titlebar.insertBefore(buttongrp, titlebar.firstChild);\n};\n\nmpl.figure.prototype._remove_fig_handler = function (event) {\n    var fig = event.data.fig;\n    if (event.target !== this) {\n        // Ignore bubbled events from children.\n        return;\n    }\n    fig.close_ws(fig, {});\n};\n\nmpl.figure.prototype._root_extra_style = function (el) {\n    el.style.boxSizing = 'content-box'; // override notebook setting of border-box.\n};\n\nmpl.figure.prototype._canvas_extra_style = function (el) {\n    // this is important to make the div 'focusable\n    el.setAttribute('tabindex', 0);\n    // reach out to IPython and tell the keyboard manager to turn it's self\n    // off when our div gets focus\n\n    // location in version 3\n    if (IPython.notebook.keyboard_manager) {\n        IPython.notebook.keyboard_manager.register_events(el);\n    } else {\n        // location in version 2\n        IPython.keyboard_manager.register_events(el);\n    }\n};\n\nmpl.figure.prototype._key_event_extra = function (event, _name) {\n    // Check for shift+enter\n    if (event.shiftKey && event.which === 13) {\n        this.canvas_div.blur();\n        // select the cell after this one\n        var index = IPython.notebook.find_cell_index(this.cell_info[0]);\n        IPython.notebook.select(index + 1);\n    }\n};\n\nmpl.figure.prototype.handle_save = function (fig, _msg) {\n    fig.ondownload(fig, null);\n};\n\nmpl.find_output_cell = function (html_output) {\n    // Return the cell and output element which can be found *uniquely* in the notebook.\n    // Note - this is a bit hacky, but it is done because the \"notebook_saving.Notebook\"\n    // IPython event is triggered only after the cells have been serialised, which for\n    // our purposes (turning an active figure into a static one), is too late.\n    var cells = IPython.notebook.get_cells();\n    var ncells = cells.length;\n    for (var i = 0; i < ncells; i++) {\n        var cell = cells[i];\n        if (cell.cell_type === 'code') {\n            for (var j = 0; j < cell.output_area.outputs.length; j++) {\n                var data = cell.output_area.outputs[j];\n                if (data.data) {\n                    // IPython >= 3 moved mimebundle to data attribute of output\n                    data = data.data;\n                }\n                if (data['text/html'] === html_output) {\n                    return [cell, data, j];\n                }\n            }\n        }\n    }\n};\n\n// Register the function which deals with the matplotlib target/channel.\n// The kernel may be null if the page has been refreshed.\nif (IPython.notebook.kernel !== null) {\n    IPython.notebook.kernel.comm_manager.register_target(\n        'matplotlib',\n        mpl.mpl_figure_comm\n    );\n}\n"
     },
     "metadata": {},
     "output_type": "display_data"
    },
    {
     "data": {
      "text/plain": "<IPython.core.display.HTML object>",
      "text/html": "<div id='4cd39fee-9296-4c17-803f-5292335effcb'></div>"
     },
     "metadata": {},
     "output_type": "display_data"
    },
    {
     "data": {
      "text/plain": "Dropdown(options=('EdStatsCountry', 'EdStatsCountry-Series', 'EdStatsData', 'EdStatsFootNote', 'EdStatsSeries'…",
      "application/vnd.jupyter.widget-view+json": {
       "version_major": 2,
       "version_minor": 0,
       "model_id": "daac6e54c8bd49349150c84752b518f6"
      }
     },
     "metadata": {},
     "output_type": "display_data"
    }
   ],
   "source": [
    "msnowidget = widgets.Dropdown(options=T_Names)\n",
    "\n",
    "fig, ax = plt.subplots(figsize=(9,10))\n",
    "\n",
    "def msnowidget_eventhandler(change):\n",
    "    draw_missing_values(change.new, fig, ax)\n",
    "\n",
    "msnowidget.observe(msnowidget_eventhandler, names='value')\n",
    "Idisplay(msnowidget)\n",
    "draw_missing_values(\"EdStatsCountry\", fig, ax)"
   ]
  },
  {
   "cell_type": "markdown",
   "id": "071094fa",
   "metadata": {},
   "source": [
    "***\n",
    "# Analyse Quantitative"
   ]
  },
  {
   "cell_type": "markdown",
   "id": "40baa92d",
   "metadata": {},
   "source": [
    "préparation de tableaux utiles pour l'affichage"
   ]
  },
  {
   "cell_type": "code",
   "execution_count": 5,
   "id": "57b7bf1f",
   "metadata": {
    "scrolled": false
   },
   "outputs": [],
   "source": [
    "indicators = EdStatsSeries[\"Indicator Name\"].to_numpy()\n",
    "#liste des éléments de \"Country Name\" qui ne sont pas des états mais des aggrégats d'états\n",
    "regions =  ['Arab World',\n",
    "            'East Asia & Pacific',\n",
    "            'East Asia & Pacific (all income levels)',\n",
    "            'East Asia & Pacific (excluding high income)',\n",
    "            'Europe & Central Asia',\n",
    "            'Europe & Central Asia (all income levels)',\n",
    "            'Europe & Central Asia (excluding high income)',\n",
    "            'Euro area',\n",
    "            'European Union',\n",
    "            'Heavily indebted poor countries (HIPC)',\n",
    "            'High income',\n",
    "            'Latin America & Caribbean',\n",
    "            'Latin America & Caribbean (all income levels)',\n",
    "            'Latin America & Caribbean (excluding high income)',\n",
    "            'Least developed countries: UN classification',\n",
    "            'Low income',\n",
    "            'Lower middle income',\n",
    "            'Low & middle income',\n",
    "            'Middle East & North Africa',\n",
    "            'Middle East & North Africa (all income levels)',\n",
    "            'Middle East & North Africa (excluding high income)',\n",
    "            'Middle income',\n",
    "            'North America',\n",
    "            'OECD members',\n",
    "            'South Asia',\n",
    "            'Sub-Saharan Africa',\n",
    "            'Sub-Saharan Africa (all income levels)',\n",
    "            'Sub-Saharan Africa (excluding high income)',\n",
    "            'Upper middle income',\n",
    "            'World']\n",
    "countries = EdStatsCountry[\"Table Name\"].to_numpy()\n",
    "\n",
    "Dates = [date(year, 1, 1) for year in list(range(1970,2018,1))+list(range(2020,2101,5))]\n",
    "Dates_string = [str(d.year) for d in Dates]"
   ]
  },
  {
   "cell_type": "markdown",
   "id": "d667350d",
   "metadata": {},
   "source": [
    "préparation de fonctions pour l'extraction des données depuis les datasets"
   ]
  },
  {
   "cell_type": "code",
   "execution_count": 6,
   "id": "dab183c1",
   "metadata": {},
   "outputs": [],
   "source": [
    "def get_Y_values(dataframe, indicator:str, country:str):\n",
    "    Q = EdStatsData.query(\"`Indicator Name` == @indicator & `Country Name` == @country\")\n",
    "    return Q[Dates_string].to_numpy().ravel()\n",
    "    \n",
    "def get_indi_missing(dataframe, indicator:str, country:str):\n",
    "    Q = EdStatsData.query(\"`Indicator Name` == @indicator\")\n",
    "    return Q[Dates_string].isna().mean(axis=1).to_numpy(), Q.isna().mean(axis=0)[Dates_string].to_numpy(), Q.reset_index().query(\"`Country Name`== @country\").index[0]\n",
    "\n",
    "def get_cty_missing(dataframe, indicator:str, country:str):\n",
    "    Q = EdStatsData.query(\"`Country Name` == @country\")\n",
    "    return Q[Dates_string].isna().mean(axis=1).to_numpy(), Q.isna().mean(axis=0)[Dates_string].to_numpy(), Q.reset_index().query(\"`Indicator Name` == @indicator\").index[0]"
   ]
  },
  {
   "cell_type": "markdown",
   "id": "8887bef6",
   "metadata": {},
   "source": [
    "création de widgets pour l'affichage dynamique"
   ]
  },
  {
   "cell_type": "code",
   "execution_count": 7,
   "id": "a35a2b9b",
   "metadata": {},
   "outputs": [],
   "source": [
    "options = [(d.strftime('%Y'), d) for d in Dates]\n",
    "date_slider = widgets.SelectionRangeSlider(options=options,\n",
    "                                           index=(0,55),\n",
    "                                           description='Période',\n",
    "                                           disabled=False)\n",
    "\n",
    "indicators_combobox = widgets.Combobox(\n",
    "    value='Population, total',\n",
    "    placeholder='',\n",
    "    options=list(indicators),\n",
    "    description='Indicator',\n",
    "    ensure_option=True,\n",
    "    disabled=False\n",
    ")\n",
    "\n",
    "countries_combobox = widgets.Combobox(\n",
    "    value='France',\n",
    "    placeholder='',\n",
    "    options=list(countries),\n",
    "    description='Country',\n",
    "    ensure_option=True,\n",
    "    disabled=False\n",
    ")"
   ]
  },
  {
   "cell_type": "markdown",
   "id": "ddbece2d",
   "metadata": {},
   "source": [
    "creation de l'objet qui gère l'affichage dynamique"
   ]
  },
  {
   "cell_type": "code",
   "execution_count": 8,
   "id": "dbb91725",
   "metadata": {},
   "outputs": [],
   "source": [
    "# Cette classe encapsule la gestion de l'affichage dynamique des indicateurs et de leurs données manquantes\n",
    "class Displayer :\n",
    "    \n",
    "    def __init__(self, DS, indi, country):\n",
    "        self.dataset = DS\n",
    "        self.indi = indi\n",
    "        self.country = country\n",
    "        self.X = np.array(Dates)\n",
    "        self.d_start = min(self.X)\n",
    "        self.d_end = max(self.X)\n",
    "        self.mask = np.full(len(self.X), True)\n",
    "        self.fig, self.ax = None, None\n",
    "        self.fig1, self.ax1 = None, None\n",
    "        self.fig2, self.ax2 = None, None\n",
    "        self.out = widgets.Output()\n",
    "        self.indi_miss = widgets.Output()\n",
    "        self.cty_miss = widgets.Output()\n",
    "    \n",
    "    def change_dates(self, new_date_start, new_date_end):\n",
    "        self.d_start = new_date_start\n",
    "        self.d_end = new_date_end\n",
    "        self._UPDATE_MASK()\n",
    "    \n",
    "    def change_country(self, new_country):\n",
    "        self.country = new_country\n",
    "        self._country_missing()\n",
    "    \n",
    "    def change_indi(self, new_indi):\n",
    "        self.indi = new_indi\n",
    "    \n",
    "    def _UPDATE_MASK(self):\n",
    "        self.mask = np.array([self.d_start <= date <= self.d_end for date in self.X])\n",
    "    \n",
    "    def _plot(self):\n",
    "        self.out.clear_output()\n",
    "        with self.out :\n",
    "            if self.fig==None :\n",
    "                self.fig, self.ax = plt.subplots(figsize=(9,6), \n",
    "                                                 num=f\"{self.country}-{self.indi}\")\n",
    "            else :\n",
    "                self.fig.set(label = f\"{self.country}-{self.indi}\")\n",
    "            fig, ax = self.fig, self.ax\n",
    "            ax.clear()\n",
    "            ax.plot(self.X[self.mask], \n",
    "                    get_Y_values(self.dataset, self.indi, self.country)[self.mask],\n",
    "                    zorder=1)\n",
    "\n",
    "            ax.grid(zorder=0)\n",
    "            fig.tight_layout()\n",
    "            Idisplay(fig)\n",
    "    \n",
    "    def _indicator_missing(self):\n",
    "        self.indi_miss.clear_output()\n",
    "        with self.indi_miss :\n",
    "            if self.fig1==None :\n",
    "                self.fig1, self.ax1 = plt.subplots(3, 1, \n",
    "                                                   figsize=(9,35), \n",
    "                                                   height_ratios = [15,10,5], \n",
    "                                                   num=f\"{self.indi[:50]}\")\n",
    "            else :\n",
    "                self.fig1.set(label = f\"{self.indi[:50]}\")\n",
    "            fig1, ax1 = self.fig1, self.ax1\n",
    "            miss_tab, miss_date, cty_index = get_indi_missing(self.dataset, self.indi, self.country)\n",
    "            N = len(miss_tab)\n",
    "            \n",
    "            ax1[0].clear()\n",
    "            bars = ax1[0].barh(range(N), miss_tab/max(miss_tab))\n",
    "            bars[cty_index].set_color('r')\n",
    "            ax1[0].set_title(f'valeurs manquantes par pays')\n",
    "            ax1[0].set_yticks([])\n",
    "            ax1[0].set_ylim(-1, N+1)\n",
    "            \n",
    "            ax1[1].clear()\n",
    "            bars = ax1[1].barh(range(len(miss_date)), miss_date/max(miss_date))\n",
    "            ax1[1].set_title(f'valeurs manquantes par année')\n",
    "            ax1[1].set_ylim(-1, len(miss_date)+1)\n",
    "            ax1[1].set_yticks(np.arange(len(Dates_string)), Dates_string)\n",
    "            \n",
    "            ax1[2].clear()\n",
    "            ax1[2].pie([miss_tab.mean(), 1-miss_tab.mean()], \n",
    "                        labels=['missing', 'data'],\n",
    "                        autopct='%1.1f%%')\n",
    "            ax1[2].set_title(f'valeurs manquantes par pays -moyenne-')\n",
    "            ax1[2].axis('equal')\n",
    "            \n",
    "            fig1.tight_layout()\n",
    "            Idisplay(fig1)\n",
    "    \n",
    "    def _country_missing(self):\n",
    "        self.cty_miss.clear_output()\n",
    "        with self.cty_miss :\n",
    "            if self.fig2==None :\n",
    "                self.fig2, self.ax2 = plt.subplots(3, 1,\n",
    "                                                   figsize=(9,115), \n",
    "                                                   height_ratios = [100,10,5],\n",
    "                                                   num=f\"{self.country}\")\n",
    "            else :\n",
    "                self.fig2.set(label = f\"{self.country}\")\n",
    "            fig2, ax2 = self.fig2, self.ax2\n",
    "            miss_tab, miss_date, indi_index = get_cty_missing(self.dataset, self.indi, self.country)\n",
    "            N = len(miss_tab)\n",
    "            \n",
    "            ax2[0].clear()\n",
    "            bars = ax2[0].barh(range(N), miss_tab/max(miss_tab))\n",
    "            bars[indi_index].set_color('r')\n",
    "            ax2[0].set_title(f'valeurs manquantes par indicateur')\n",
    "            ax2[0].set_yticks([])\n",
    "            ax2[0].set_ylim(-1, N+1)\n",
    "            \n",
    "            ax2[1].clear()\n",
    "            bars = ax2[1].barh(range(len(miss_date)), miss_date/max(miss_date))\n",
    "            ax2[1].set_title(f'valeurs manquantes par année')\n",
    "            ax2[1].set_ylim(-1, len(miss_date)+1)\n",
    "            ax2[1].set_yticks(np.arange(len(Dates_string)), Dates_string)\n",
    "            \n",
    "            ax2[2].clear()\n",
    "            ax2[2].pie([miss_tab.mean(), 1-miss_tab.mean()], \n",
    "                        labels=['manquant', 'donnees'],\n",
    "                        autopct='%1.1f%%')\n",
    "            ax2[2].set_title(f'valeurs manquantes par indicateur -moyenne-')\n",
    "            ax2[2].axis('equal')\n",
    "            \n",
    "            fig2.tight_layout()\n",
    "            Idisplay(fig2)\n",
    "    \n",
    "    def display(self):\n",
    "        self._plot()\n",
    "        self._indicator_missing()\n",
    "        self._country_missing()"
   ]
  },
  {
   "cell_type": "markdown",
   "id": "ed5b5ef2",
   "metadata": {},
   "source": [
    "mise en relation de l'objet qui gère l'affichage et des widgets qui récupèrent les données"
   ]
  },
  {
   "cell_type": "code",
   "execution_count": 9,
   "id": "98ec84ec",
   "metadata": {
    "scrolled": false
   },
   "outputs": [],
   "source": [
    "Data_displayer = Displayer(EdStatsData, \"Population, total\", \"France\")\n",
    "\n",
    "def date_slider_eventhandler(change):\n",
    "    Data_displayer.change_dates(*change.new)\n",
    "    Data_displayer.display()\n",
    "def indicators_combobox_eventhandler(change):\n",
    "    Data_displayer.change_indi(change.new)\n",
    "    Data_displayer.display()\n",
    "def countries_combobox_eventhandler(change):\n",
    "    Data_displayer.change_country(change.new)\n",
    "    Data_displayer.display()\n",
    "\n",
    "date_slider.observe(date_slider_eventhandler, names='value')\n",
    "indicators_combobox.observe(indicators_combobox_eventhandler, names='value')\n",
    "countries_combobox.observe(countries_combobox_eventhandler, names='value')"
   ]
  },
  {
   "cell_type": "code",
   "execution_count": 10,
   "id": "d4fdd6df",
   "metadata": {
    "scrolled": false
   },
   "outputs": [
    {
     "data": {
      "text/plain": "Tab(children=(VBox(children=(Output(), SelectionRangeSlider(description='Période', index=(0, 55), options=(('1…",
      "application/vnd.jupyter.widget-view+json": {
       "version_major": 2,
       "version_minor": 0,
       "model_id": "5fc5e1c4fc164d83865e6fccf7f8b96d"
      }
     },
     "metadata": {},
     "output_type": "display_data"
    },
    {
     "name": "stdout",
     "output_type": "stream",
     "text": [
      "\n"
     ]
    }
   ],
   "source": [
    "tab = widgets.Tab()\n",
    "tab.children = [widgets.VBox([Data_displayer.out, date_slider, indicators_combobox, countries_combobox]), \n",
    "                widgets.VBox([Data_displayer.indi_miss, indicators_combobox]),\n",
    "                widgets.VBox([Data_displayer.cty_miss, countries_combobox])]\n",
    "tab.titles = (\"plot\", \"indicator\", \"country\")\n",
    "Idisplay(tab)\n",
    "Data_displayer.display()\n",
    "print(\"\")"
   ]
  },
  {
   "cell_type": "markdown",
   "id": "7a28cd34",
   "metadata": {},
   "source": [
    "***\n",
    "# Evaluation"
   ]
  },
  {
   "cell_type": "markdown",
   "id": "4843ead3",
   "metadata": {},
   "source": [
    "### selection de la periode d'analyse"
   ]
  },
  {
   "cell_type": "markdown",
   "id": "37f33f96",
   "metadata": {},
   "source": [
    "on se concentre sur la partie entre 2005 et 2015 car c'est une période à la fois suffisamment récente et les années autour de 2010 sont les plus renseignées au niveau des indicateurs."
   ]
  },
  {
   "cell_type": "code",
   "execution_count": null,
   "id": "820b3f81",
   "metadata": {
    "pycharm": {
     "is_executing": true
    }
   },
   "outputs": [],
   "source": [
    "fig4, ax4 = plt.subplots(figsize=(9,5))\n",
    "\n",
    "ax4.bar(np.arange(65), \n",
    "        np.isnan(np.array(EdStatsData.to_numpy()[:,4:-1], dtype=float)).mean(axis=0), \n",
    "        color=['C00']*35+['C01']*11+['C00']*20)\n",
    "ax4.set_xticks(np.arange(65), labels=Dates_string, rotation=90, fontsize=7)\n",
    "ax4.set_ylim(0,1)\n",
    "fig4.set(label='Données manquantes par année')\n",
    "print()"
   ]
  },
  {
   "cell_type": "markdown",
   "id": "15823d7f",
   "metadata": {},
   "source": [
    "## repérage des indicateurs"
   ]
  },
  {
   "cell_type": "code",
   "execution_count": null,
   "id": "59b2e7e0",
   "metadata": {
    "pycharm": {
     "is_executing": true
    }
   },
   "outputs": [],
   "source": [
    "def stats_indicator(indi:str):\n",
    "    \"\"\"\n",
    "    prend un indicateur et donne ses statistiques sur tout le dataset\n",
    "\n",
    "    :param indi: l'indicateur considéré\n",
    "    :return: Un dataset généré avec pd.DataFrame.describe()\n",
    "    \"\"\"\n",
    "    Q = EdStatsData.query(\"`Indicator Name` == @indi\")\n",
    "    return pd.DataFrame(Q[~Q[\"Country Name\"].isin(regions)][Dates_string].to_numpy().ravel()).dropna().round(5).describe()"
   ]
  },
  {
   "cell_type": "markdown",
   "id": "f2ef73c9",
   "metadata": {},
   "source": [
    "### communication"
   ]
  },
  {
   "cell_type": "markdown",
   "id": "cbdbee67",
   "metadata": {},
   "source": [
    "#### Internet users (per 100 people)"
   ]
  },
  {
   "cell_type": "code",
   "execution_count": null,
   "id": "143d7885",
   "metadata": {
    "scrolled": false,
    "pycharm": {
     "is_executing": true
    }
   },
   "outputs": [],
   "source": [
    "EdStatsSeries.query(\"`Indicator Name` == 'Internet users (per 100 people)'\")"
   ]
  },
  {
   "cell_type": "code",
   "execution_count": null,
   "id": "79cc00bf",
   "metadata": {
    "pycharm": {
     "is_executing": true
    }
   },
   "outputs": [],
   "source": [
    "stats_indicator('Internet users (per 100 people)')"
   ]
  },
  {
   "cell_type": "markdown",
   "id": "765a0198",
   "metadata": {},
   "source": [
    "#### Personal computers (per 100 people)"
   ]
  },
  {
   "cell_type": "code",
   "execution_count": null,
   "id": "6dedefca",
   "metadata": {
    "pycharm": {
     "is_executing": true
    }
   },
   "outputs": [],
   "source": [
    "EdStatsSeries.query(\"`Indicator Name` == 'Personal computers (per 100 people)'\")"
   ]
  },
  {
   "cell_type": "code",
   "execution_count": null,
   "id": "da6ffe69",
   "metadata": {
    "pycharm": {
     "is_executing": true
    }
   },
   "outputs": [],
   "source": [
    "stats_indicator('Personal computers (per 100 people)')"
   ]
  },
  {
   "cell_type": "markdown",
   "id": "33efbc3d",
   "metadata": {},
   "source": [
    "### education"
   ]
  },
  {
   "cell_type": "markdown",
   "id": "fa9e41af",
   "metadata": {},
   "source": [
    "Les valeurs éducatives doivent êtres pondérées par la population pour donner des résultats exploitables"
   ]
  },
  {
   "cell_type": "code",
   "execution_count": null,
   "id": "205e707e",
   "metadata": {
    "pycharm": {
     "is_executing": true
    }
   },
   "outputs": [],
   "source": [
    "def get_weighted(DS, indi:str):\n",
    "    \"\"\"\n",
    "    Cette fonction utilise un dataset et un indicateur pour renvoyer un nouveau dataset des données de l'indicateur\n",
    "    pondérées par la valeur de la population chaque année.\n",
    "\n",
    "    :param DS: le dataset\n",
    "    :param indi: l'indicateur qu'il faut pondérer\n",
    "    :return: Le dataset résultat avec les mêmes colonnes mais de nouvelles lignes.\n",
    "    \"\"\"\n",
    "    A = DS.copy()\n",
    "    A.sort_values(\"Country Name\", 0)\n",
    "    Pop = A.query(\"`Indicator Name` == 'Population, total'\")\n",
    "    Indi = A.query(\"`Indicator Name` == @indi\")\n",
    "    Pop.index = Indi.index = pd.Index(range(len(DS), len(DS)+len(Pop)))\n",
    "    Indi[Dates_string] = Indi[Dates_string].div(Pop[Dates_string])\n",
    "    Indi[\"Indicator Name\"] = Indi[\"Indicator Name\"] + \" weighted by population\"\n",
    "    return Indi"
   ]
  },
  {
   "cell_type": "markdown",
   "id": "ff900d4d",
   "metadata": {},
   "source": [
    "#### Enrolment in primary education, both sexes (number)"
   ]
  },
  {
   "cell_type": "code",
   "execution_count": null,
   "id": "b6c4edd6",
   "metadata": {
    "pycharm": {
     "is_executing": true
    }
   },
   "outputs": [],
   "source": [
    "EdStatsSeries.query(\"`Indicator Name` == 'Enrolment in primary education, both sexes (number)'\")"
   ]
  },
  {
   "cell_type": "code",
   "execution_count": null,
   "id": "307c57b6",
   "metadata": {
    "scrolled": true,
    "pycharm": {
     "is_executing": true
    }
   },
   "outputs": [],
   "source": [
    "stats_indicator('Enrolment in primary education, both sexes (number)')"
   ]
  },
  {
   "cell_type": "code",
   "execution_count": null,
   "id": "6010ca3b",
   "metadata": {
    "pycharm": {
     "is_executing": true
    }
   },
   "outputs": [],
   "source": [
    "EdStatsData = pd.concat((EdStatsData, get_weighted(EdStatsData, 'Enrolment in primary education, both sexes (number)')))"
   ]
  },
  {
   "cell_type": "markdown",
   "id": "01d188de",
   "metadata": {},
   "source": [
    "Maximum : 0.2531978696990211 Uganda 2009"
   ]
  },
  {
   "cell_type": "markdown",
   "id": "ac3a596d",
   "metadata": {},
   "source": [
    "#### Enrolment in secondary education, both sexes (number)"
   ]
  },
  {
   "cell_type": "code",
   "execution_count": null,
   "id": "46f69a4e",
   "metadata": {
    "scrolled": true,
    "pycharm": {
     "is_executing": true
    }
   },
   "outputs": [],
   "source": [
    "EdStatsSeries.query(\"`Indicator Name` == 'Enrolment in secondary education, both sexes (number)'\")"
   ]
  },
  {
   "cell_type": "code",
   "execution_count": null,
   "id": "d0adbf7e",
   "metadata": {
    "pycharm": {
     "is_executing": true
    }
   },
   "outputs": [],
   "source": [
    "stats_indicator('Enrolment in secondary education, both sexes (number)')"
   ]
  },
  {
   "cell_type": "code",
   "execution_count": null,
   "id": "ef97a3be",
   "metadata": {
    "pycharm": {
     "is_executing": true
    }
   },
   "outputs": [],
   "source": [
    "EdStatsData = pd.concat((EdStatsData, get_weighted(EdStatsData, 'Enrolment in secondary education, both sexes (number)')))"
   ]
  },
  {
   "cell_type": "markdown",
   "id": "fb6ddbee",
   "metadata": {},
   "source": [
    "Maximum : 0.20126769717825674 West Bank and Gaza 2006"
   ]
  },
  {
   "cell_type": "markdown",
   "id": "62e49ba5",
   "metadata": {},
   "source": [
    "#### Enrolment in tertiary education, all programmes, both sexes (number)"
   ]
  },
  {
   "cell_type": "code",
   "execution_count": null,
   "id": "e3d25120",
   "metadata": {
    "pycharm": {
     "is_executing": true
    }
   },
   "outputs": [],
   "source": [
    "EdStatsSeries.query(\"`Indicator Name` == 'Enrolment in tertiary education, all programmes, both sexes (number)'\")"
   ]
  },
  {
   "cell_type": "code",
   "execution_count": null,
   "id": "a3457753",
   "metadata": {
    "scrolled": true,
    "pycharm": {
     "is_executing": true
    }
   },
   "outputs": [],
   "source": [
    "stats_indicator('Enrolment in tertiary education, all programmes, both sexes (number)')"
   ]
  },
  {
   "cell_type": "code",
   "execution_count": null,
   "id": "455be3f2",
   "metadata": {
    "pycharm": {
     "is_executing": true
    }
   },
   "outputs": [],
   "source": [
    "EdStatsData = pd.concat((EdStatsData, get_weighted(EdStatsData, 'Enrolment in tertiary education, all programmes, both sexes (number)')))"
   ]
  },
  {
   "cell_type": "markdown",
   "id": "614f75b9",
   "metadata": {},
   "source": [
    "Maximum : 0.08729190749860695 Cuba 2008"
   ]
  },
  {
   "cell_type": "markdown",
   "id": "290da8b4",
   "metadata": {},
   "source": [
    "### economics"
   ]
  },
  {
   "cell_type": "markdown",
   "id": "c409fc58",
   "metadata": {},
   "source": [
    "#### Income Group"
   ]
  },
  {
   "cell_type": "code",
   "execution_count": null,
   "id": "e98ef6a1",
   "metadata": {
    "pycharm": {
     "is_executing": true
    }
   },
   "outputs": [],
   "source": [
    "income_groups = pd.unique(EdStatsCountry[\"Income Group\"].dropna())\n",
    "income_int = [3, 0, 2, 1, 4]\n",
    "\n",
    "def income_cat(x):\n",
    "    '''\n",
    "    récupère une chaine de caractère de catégorie et renvoie l'entier correspondant\n",
    "    ces catégories sont numérotées de 0 à 4 classées par ordre croissant\n",
    "    Low income < Lower middle income < Upper middle income < High income: nonOECD < High income: OECD\n",
    "    '''\n",
    "    if x!=x : #vrai ssi x est NaN\n",
    "        return x\n",
    "    else :\n",
    "        return income_int[list(income_groups).index(x)]"
   ]
  },
  {
   "cell_type": "code",
   "execution_count": null,
   "id": "d5670e50",
   "metadata": {
    "pycharm": {
     "is_executing": true
    }
   },
   "outputs": [],
   "source": [
    "pd.DataFrame(EdStatsCountry[\"Income Group\"].value_counts())"
   ]
  },
  {
   "cell_type": "markdown",
   "id": "9efe3473",
   "metadata": {},
   "source": [
    "#### GNI per capita, Atlas method (current US$)"
   ]
  },
  {
   "cell_type": "code",
   "execution_count": null,
   "id": "71cc57b5",
   "metadata": {
    "pycharm": {
     "is_executing": true
    }
   },
   "outputs": [],
   "source": [
    "EdStatsSeries.query(\"`Indicator Name` == 'GNI per capita, Atlas method (current US$)'\")"
   ]
  },
  {
   "cell_type": "code",
   "execution_count": null,
   "id": "796f6e06",
   "metadata": {
    "pycharm": {
     "is_executing": true
    },
    "scrolled": true
   },
   "outputs": [],
   "source": [
    "stats_indicator('GNI per capita, Atlas method (current US$)')"
   ]
  },
  {
   "cell_type": "markdown",
   "id": "fa9db5ea",
   "metadata": {},
   "source": [
    "Maximum : 186080.0 Monaco 2008"
   ]
  },
  {
   "cell_type": "markdown",
   "id": "5bca1bfc",
   "metadata": {
    "pycharm": {
     "is_executing": true
    }
   },
   "source": [
    "# notation"
   ]
  },
  {
   "cell_type": "markdown",
   "id": "1fd36a9d",
   "metadata": {},
   "source": [
    "création des fonctions de calcul de notes"
   ]
  },
  {
   "cell_type": "code",
   "execution_count": null,
   "id": "c78856e6",
   "metadata": {
    "pycharm": {
     "is_executing": true
    }
   },
   "outputs": [],
   "source": [
    "#chaque indicateur est associé à ses valeurs limites pour les calculs\n",
    "selection =[('Internet users (per 100 people)', 0, 100),\n",
    "            ('Personal computers (per 100 people)', 0, 100),\n",
    "            ('Income Group', 0, 4),\n",
    "            ('GNI per capita, Atlas method (current US$)', 0, 186080.0),\n",
    "            ('Enrolment in primary education, both sexes (number) weighted by population', 0, 0.2531978696990211),\n",
    "            ('Enrolment in secondary education, both sexes (number) weighted by population', 0, 0.20126769717825674),\n",
    "            ('Enrolment in tertiary education, all programmes, both sexes (number) weighted by population', 0, 0.08729190749860695)]\n",
    "\n",
    "#MultiIndex pour l'affichage plus joli en dataframe\n",
    "Mindex = [('communication', 'Internet users (per 100 people)'),\n",
    "          ('communication', 'Personal computers (per 100 people)'),\n",
    "          ('economics',     'Income Group'),\n",
    "          ('economics',     'GNI per capita, Atlas method (current US$)'),\n",
    "          ('education',     'Enrolment in primary education, both sexes (number) weighted by population'),\n",
    "          ('education',     'Enrolment in secondary education, both sexes (number) weighted by population'),\n",
    "          ('education',     'Enrolment in tertiary education, all programmes, both sexes (number) weighted by population'),\n",
    "          ('divers',        'moyenne generale')]"
   ]
  },
  {
   "cell_type": "code",
   "execution_count": null,
   "id": "187a4380",
   "metadata": {
    "pycharm": {
     "is_executing": true
    }
   },
   "outputs": [],
   "source": [
    "def list_normalise(L, m, M):\n",
    "    '''normalise la liste L entre m et M (m<M)'''\n",
    "    L = L[~np.isnan(L)]\n",
    "    return (L-m)/(M-m)\n",
    "\n",
    "def point_normalise(p, m, M):\n",
    "    '''normalise le point de données p entre m et M (m<M)'''\n",
    "    return (p-m)/(M-m)\n",
    "\n",
    "def note_indicateur(country, indicator, m=0, M=1):\n",
    "    \"\"\"\n",
    "    Cette fonction prend un pays et trois informations d'indicateur : nom, portée min, portée max.\n",
    "    Elle renvoie alors la note de l'indicateur pour le pays comme la moyenne des valeurs normalisées entre 2005 et 2015\n",
    "\n",
    "    :param country: le nom du pays\n",
    "    :param indicator: l'indicateur dont on veut calculer la note\n",
    "    :param m: minimum de l'indicateur, 0 par défaut (optionnel)\n",
    "    :param M: maximum de l'indicateur, 1 par défaut (optionnel)\n",
    "    :return: La note de l'indicateur, moyenne des valeurs sur la période d'étude.\n",
    "    \"\"\"\n",
    "    if indicator != 'Income Group': \n",
    "        Y = get_Y_values(EdStatsData, indicator, country)\n",
    "        return list_normalise(Y[35:46], m, M).mean()\n",
    "    else :\n",
    "        Y=EdStatsCountry.query(\"`Table Name`==@country\")\n",
    "        return point_normalise(income_cat(Y[\"Income Group\"].iloc[0]), m, M)\n",
    "\n",
    "def note(country, PB=None):\n",
    "    \"\"\"\n",
    "    Cette fonction prend en entrée un pays et renvoie un dataset de chaque note qu'elle a obtenu pour tous les indicateurs,\n",
    "    plus le score moyen\n",
    "    \n",
    "    :param country: Le pays à analyser\n",
    "    :param PB: un paramètre optionnel pour faire évoluer une barre de chargement\n",
    "    :return: Un dataset des notes.\n",
    "    \"\"\"\n",
    "    if PB :\n",
    "        PB.value = PB.value+1\n",
    "    \n",
    "    bull_index = pd.MultiIndex.from_tuples(Mindex, names=[\"categorie\", \"indicateur\"])\n",
    "    V = [round(20*note_indicateur(country, *s), 2) for s in selection]\n",
    "    res = pd.DataFrame(V+[sum(V)/len(V)], \n",
    "                       index=bull_index, \n",
    "                       columns=[\"note\"],\n",
    "                       dtype=float)\n",
    "    res.columns.name = country\n",
    "    return res"
   ]
  },
  {
   "cell_type": "markdown",
   "id": "3cedaa9a",
   "metadata": {},
   "source": [
    "affichage du bulletin de notes pour un pays"
   ]
  },
  {
   "cell_type": "code",
   "execution_count": null,
   "id": "7ac136a2",
   "metadata": {
    "pycharm": {
     "is_executing": true
    },
    "scrolled": false
   },
   "outputs": [],
   "source": [
    "bulletin = note('France')\n",
    "\n",
    "note_out = widgets.Output()\n",
    "with note_out :\n",
    "    Idisplay(bulletin)\n",
    "\n",
    "countries_combobox = widgets.Combobox(\n",
    "    value='France',\n",
    "    placeholder='',\n",
    "    options=list(countries),\n",
    "    description='Country',\n",
    "    ensure_option=True,\n",
    "    disabled=False\n",
    ")\n",
    "\n",
    "def countries_combobox_eventhandler(change):\n",
    "    bulletin = note(change.new)\n",
    "    note_out.clear_output()\n",
    "    with note_out :\n",
    "        Idisplay(bulletin)\n",
    "\n",
    "countries_combobox.observe(countries_combobox_eventhandler, names='value')\n",
    "\n",
    "Idisplay(countries_combobox, note_out)"
   ]
  },
  {
   "cell_type": "markdown",
   "id": "8c82b264",
   "metadata": {},
   "source": [
    "Calcul de la note pour chaque pays"
   ]
  },
  {
   "cell_type": "code",
   "execution_count": null,
   "id": "e6b89e14",
   "metadata": {
    "pycharm": {
     "is_executing": true
    }
   },
   "outputs": [],
   "source": [
    "progressBar = widgets.IntProgress(value=0,\n",
    "                                  min=0,\n",
    "                                  max=len(countries),\n",
    "                                  description='Chargement:',\n",
    "                                  bar_style='',\n",
    "                                  style={'bar_color': 'blue'},\n",
    "                                  orientation='horizontal')\n",
    "\n",
    "Idisplay(progressBar)\n",
    "\n",
    "EdStatsCountry[\"Note\"]=EdStatsCountry[\"Table Name\"].apply(lambda x:note(x, progressBar).loc[\"divers\", \"moyenne generale\"])"
   ]
  },
  {
   "cell_type": "markdown",
   "id": "222ee856",
   "metadata": {},
   "source": [
    "Affichage des 10 pays les mieux notés"
   ]
  },
  {
   "cell_type": "code",
   "execution_count": null,
   "id": "640b5b4d",
   "metadata": {
    "pycharm": {
     "is_executing": true
    }
   },
   "outputs": [],
   "source": [
    "EdStatsCountry.sort_values([\"Note\", \"Table Name\"], ascending=[False, True]).reset_index()[[\"Table Name\", \"Note\"]].head(10)"
   ]
  },
  {
   "cell_type": "code",
   "execution_count": null,
   "id": "4cf9f6d5",
   "metadata": {
    "pycharm": {
     "is_executing": true
    }
   },
   "outputs": [],
   "source": []
  }
 ],
 "metadata": {
  "kernelspec": {
   "display_name": "Python 3 (ipykernel)",
   "language": "python",
   "name": "python3"
  },
  "language_info": {
   "codemirror_mode": {
    "name": "ipython",
    "version": 3
   },
   "file_extension": ".py",
   "mimetype": "text/x-python",
   "name": "python",
   "nbconvert_exporter": "python",
   "pygments_lexer": "ipython3",
   "version": "3.10.7"
  }
 },
 "nbformat": 4,
 "nbformat_minor": 5
}
