{
 "cells": [
  {
   "cell_type": "markdown",
   "id": "357d2b23",
   "metadata": {},
   "source": [
    "# Projet 2"
   ]
  },
  {
   "cell_type": "markdown",
   "id": "7734304f",
   "metadata": {},
   "source": [
    "## Sommaire\n",
    "\n",
    "► consigne </br>\n",
    "► setup </br>\n",
    "► analyse qualitative </br>\n",
    "► analyse quantative </br>\n",
    "► évaluation"
   ]
  },
  {
   "cell_type": "markdown",
   "id": "35c57537",
   "metadata": {},
   "source": [
    "***\n",
    "# consigne"
   ]
  },
  {
   "cell_type": "markdown",
   "id": "8dc5d121",
   "metadata": {},
   "source": [
    "Mark, votre manager, vous a convié à une réunion pour vous présenter le projet d’expansion à l’international de l’entreprise. Il vous confie une première mission d’analyse exploratoire, pour déterminer si les données sur l’éducation de la banque mondiale permettent d’informer le projet d’expansion.\n",
    "\n",
    "Voici les différentes questions que Mark aimerait explorer, que vous avez notées durant la réunion :\n",
    "\n",
    " - Quels sont les pays avec un fort potentiel de clients pour nos services ?\n",
    " - Pour chacun de ces pays, quelle sera l’évolution de ce potentiel de clients ?\n",
    " - Dans quels pays l'entreprise doit-elle opérer en priorité ?\n",
    "Votre mission\n",
    "Mark vous a donc demandé de réaliser une analyse pré-exploratoire de ce jeu de données. Il vous a transmis cet email à la suite de la réunion :"
   ]
  },
  {
   "cell_type": "markdown",
   "id": "3bf85f82",
   "metadata": {},
   "source": [
    "*Hello,*\n",
    "\n",
    "*Les données de la Banque mondiale sont disponibles à l’adresse suivante :*\n",
    "\n",
    "*https://datacatalog.worldbank.org/dataset/education-statistics*\n",
    "\n",
    "*Ou en téléchargement direct à ce lien.*\n",
    "\n",
    "*Je te laisse regarder la page d'accueil qui décrit le jeu de données. En résumé, l’organisme “EdStats All Indicator Query” de la Banque mondiale répertorie 4000 indicateurs internationaux décrivant l’accès à l’éducation, l’obtention de diplômes et des informations relatives aux professeurs, aux dépenses liées à l’éducation... Tu trouveras plus d'info sur ce site :*\n",
    "\n",
    "*http://datatopics.worldbank.org/education/*\n",
    "\n",
    "*Pour la pré-analyse, pourrais-tu :*\n",
    "\n",
    " - *Valider la qualité de ce jeu de données (comporte-t-il beaucoup de données manquantes, dupliquées ?)*\n",
    " - *Décrire les informations contenues dans le jeu de données (nombre de colonnes ? nombre de lignes ?)*\n",
    " - *Sélectionner les informations qui semblent pertinentes pour répondre à la problématique (quelles sont les colonnes contenant des informations qui peuvent être utiles pour répondre à la problématique de l’entreprise ?)*\n",
    " - *Déterminer des ordres de grandeurs des indicateurs statistiques classiques pour les différentes zones géographiques et pays du monde (moyenne/médiane/écart-type par pays et par continent ou bloc géographique)*\n",
    " \n",
    "*Ton travail va nous permettre de déterminer si ce jeu de données peut informer les décisions d'ouverture vers de nouveaux pays. On va partager ton analyse avec le board, alors merci de soigner la présentation et de l'illustrer avec des graphiques pertinents et lisibles !*"
   ]
  },
  {
   "cell_type": "markdown",
   "id": "56d9d276",
   "metadata": {},
   "source": [
    "Livrables attendus\n",
    " - Un notebook comportant les analyses pré-exploratoires réalisées (non cleané, pour comprendre votre démarche).\n",
    " - Un support de présentation pour la soutenance."
   ]
  },
  {
   "cell_type": "markdown",
   "id": "f5d6adb6",
   "metadata": {},
   "source": [
    "***\n",
    "# Setup"
   ]
  },
  {
   "cell_type": "markdown",
   "id": "dd219335",
   "metadata": {},
   "source": [
    "### import des bibliothèques"
   ]
  },
  {
   "cell_type": "code",
   "execution_count": 1,
   "id": "181e051a",
   "metadata": {
    "pycharm": {
     "is_executing": true
    }
   },
   "outputs": [
    {
     "name": "stdout",
     "output_type": "stream",
     "text": [
      "Using matplotlib backend: <object object at 0x000001A9012A9620>\n"
     ]
    },
    {
     "data": {
      "text/plain": [
       "<contextlib.ExitStack at 0x1a8edc37940>"
      ]
     },
     "execution_count": 1,
     "metadata": {},
     "output_type": "execute_result"
    }
   ],
   "source": [
    "import numpy as np\n",
    "import pandas as pd\n",
    "import matplotlib.pyplot as plt\n",
    "import missingno as msno\n",
    "import ipywidgets as widgets\n",
    "import markdown\n",
    "\n",
    "%matplotlib\n",
    "\n",
    "from datetime import datetime, timezone, timedelta, date\n",
    "from IPython.display import display as Idisplay\n",
    "from IPython.display import clear_output, HTML\n",
    "from matplotlib import pylab\n",
    "\n",
    "import warnings\n",
    "warnings.filterwarnings('ignore')\n",
    "\n",
    "pd.set_option('display.float_format', lambda x: '%.3f' % x)\n",
    "plt.ioff()"
   ]
  },
  {
   "cell_type": "markdown",
   "id": "6aeb5283",
   "metadata": {},
   "source": [
    "### import des données"
   ]
  },
  {
   "cell_type": "code",
   "execution_count": 2,
   "id": "ff04bd0e",
   "metadata": {},
   "outputs": [],
   "source": [
    "EdStatsCountry = pd.read_csv(\"csv_data/EdStatsCountry.csv\")\n",
    "EdStatsCountry_Series = pd.read_csv(\"csv_data/EdStatsCountry-Series.csv\")\n",
    "EdStatsData = pd.read_csv(\"csv_data/EdStatsData.csv\")\n",
    "EdStatsFootNote = pd.read_csv(\"csv_data/EdStatsFootNote.csv\")\n",
    "EdStatsSeries = pd.read_csv(\"csv_data/EdStatsSeries.csv\")"
   ]
  },
  {
   "cell_type": "markdown",
   "id": "6c23d6da",
   "metadata": {},
   "source": [
    "***\n",
    "# Analyse Qualitative"
   ]
  },
  {
   "cell_type": "markdown",
   "id": "082309de",
   "metadata": {},
   "source": [
    "premier coup d'oeuil avec une carte des liens entre les tables"
   ]
  },
  {
   "cell_type": "markdown",
   "id": "188482e5",
   "metadata": {},
   "source": [
    "![title](img\\table_chart.png)"
   ]
  },
  {
   "cell_type": "markdown",
   "id": "79c0dd04",
   "metadata": {},
   "source": [
    "### affichage des données manquantes sous forme de matrice binaire (Noir = présent, Blanc = manquant)"
   ]
  },
  {
   "cell_type": "code",
   "execution_count": 3,
   "id": "654fc462",
   "metadata": {
    "scrolled": false
   },
   "outputs": [
    {
     "name": "stdout",
     "output_type": "stream",
     "text": [
      "EdStatsCountry est de taille (241, 32)\n",
      "EdStatsCountry-Series est de taille (613, 4)\n",
      "EdStatsData est de taille (886930, 70)\n",
      "EdStatsFootNote est de taille (643638, 5)\n",
      "EdStatsSeries est de taille (3665, 21)\n"
     ]
    }
   ],
   "source": [
    "Tables = [EdStatsCountry, EdStatsCountry_Series, EdStatsData, EdStatsFootNote, EdStatsSeries]\n",
    "T_Names = [\"EdStatsCountry\", \"EdStatsCountry-Series\", \"EdStatsData\", \"EdStatsFootNote\", \"EdStatsSeries\"]\n",
    "\n",
    "for t,n in zip(Tables, T_Names):\n",
    "    t.name = n\n",
    "    print(f\"{n} est de taille {t.shape}\")\n",
    "\n",
    "def draw_missing_values(ds_str, fig, ax):\n",
    "    t = Tables[T_Names.index(ds_str)]\n",
    "    msno.matrix(t, ax=ax, sparkline=False)\n",
    "    ax.set_title(t.name)\n",
    "    fig.tight_layout(pad=2)"
   ]
  },
  {
   "cell_type": "code",
   "execution_count": 4,
   "id": "fac83b13",
   "metadata": {
    "pycharm": {
     "is_executing": true
    }
   },
   "outputs": [
    {
     "data": {
      "application/vnd.jupyter.widget-view+json": {
       "model_id": "d533e5d40bcf4c808e332e2a30834f43",
       "version_major": 2,
       "version_minor": 0
      },
      "text/plain": [
       "Dropdown(options=('EdStatsCountry', 'EdStatsCountry-Series', 'EdStatsData', 'EdStatsFootNote', 'EdStatsSeries'…"
      ]
     },
     "metadata": {},
     "output_type": "display_data"
    },
    {
     "data": {
      "application/vnd.jupyter.widget-view+json": {
       "model_id": "3efac8ee217941948f057d9ec2159c08",
       "version_major": 2,
       "version_minor": 0
      },
      "text/plain": [
       "Output()"
      ]
     },
     "metadata": {},
     "output_type": "display_data"
    }
   ],
   "source": [
    "msnowidget = widgets.Dropdown(options=T_Names)\n",
    "output_miss = widgets.Output()\n",
    "\n",
    "with output_miss :\n",
    "    fig, ax = plt.subplots(figsize=(9,10))\n",
    "    draw_missing_values(\"EdStatsCountry\", fig, ax)\n",
    "    Idisplay(fig)\n",
    "\n",
    "def msnowidget_eventhandler(change):\n",
    "    with output_miss :\n",
    "        clear_output()\n",
    "        draw_missing_values(change.new, fig, ax)\n",
    "        Idisplay(fig)\n",
    "\n",
    "msnowidget.observe(msnowidget_eventhandler, names='value')\n",
    "\n",
    "Idisplay(msnowidget, output_miss)"
   ]
  },
  {
   "cell_type": "markdown",
   "id": "071094fa",
   "metadata": {},
   "source": [
    "***\n",
    "# Analyse Quantitative"
   ]
  },
  {
   "cell_type": "markdown",
   "id": "40baa92d",
   "metadata": {},
   "source": [
    "préparation de tableaux utiles pour l'affichage"
   ]
  },
  {
   "cell_type": "code",
   "execution_count": 5,
   "id": "57b7bf1f",
   "metadata": {
    "scrolled": false
   },
   "outputs": [],
   "source": [
    "indicators = EdStatsSeries[\"Indicator Name\"].to_numpy()\n",
    "#liste des éléments de \"Country Name\" qui ne sont pas des états mais des aggrégats d'états\n",
    "regions =  ['Arab World',\n",
    "            'East Asia & Pacific',\n",
    "            'East Asia & Pacific (all income levels)',\n",
    "            'East Asia & Pacific (excluding high income)',\n",
    "            'Europe & Central Asia',\n",
    "            'Europe & Central Asia (all income levels)',\n",
    "            'Europe & Central Asia (excluding high income)',\n",
    "            'Euro area',\n",
    "            'European Union',\n",
    "            'Heavily indebted poor countries (HIPC)',\n",
    "            'High income',\n",
    "            'Latin America & Caribbean',\n",
    "            'Latin America & Caribbean (all income levels)',\n",
    "            'Latin America & Caribbean (excluding high income)',\n",
    "            'Least developed countries: UN classification',\n",
    "            'Low income',\n",
    "            'Lower middle income',\n",
    "            'Low & middle income',\n",
    "            'Middle East & North Africa',\n",
    "            'Middle East & North Africa (all income levels)',\n",
    "            'Middle East & North Africa (excluding high income)',\n",
    "            'Middle income',\n",
    "            'North America',\n",
    "            'OECD members',\n",
    "            'South Asia',\n",
    "            'Sub-Saharan Africa',\n",
    "            'Sub-Saharan Africa (all income levels)',\n",
    "            'Sub-Saharan Africa (excluding high income)',\n",
    "            'Upper middle income',\n",
    "            'World']\n",
    "countries = EdStatsCountry[\"Table Name\"].to_numpy()\n",
    "\n",
    "Dates = [date(year, 1, 1) for year in list(range(1970,2018,1))+list(range(2020,2101,5))]\n",
    "Dates_string = [str(d.year) for d in Dates]"
   ]
  },
  {
   "cell_type": "markdown",
   "id": "d667350d",
   "metadata": {},
   "source": [
    "préparation de fonctions pour l'extraction des données depuis les datasets"
   ]
  },
  {
   "cell_type": "code",
   "execution_count": 6,
   "id": "dab183c1",
   "metadata": {},
   "outputs": [],
   "source": [
    "def get_Y_values(dataframe, indicator:str, country:str):\n",
    "    Q = EdStatsData.query(\"`Indicator Name` == @indicator & `Country Name` == @country\")\n",
    "    return Q[Dates_string].to_numpy().ravel()\n",
    "    \n",
    "def get_indi_missing(dataframe, indicator:str, country:str):\n",
    "    Q = EdStatsData.query(\"`Indicator Name` == @indicator\")\n",
    "    return Q[Dates_string].isna().mean(axis=1).to_numpy(), Q.isna().mean(axis=0)[Dates_string].to_numpy(), Q.reset_index().query(\"`Country Name`== @country\").index[0]\n",
    "\n",
    "def get_cty_missing(dataframe, indicator:str, country:str):\n",
    "    Q = EdStatsData.query(\"`Country Name` == @country\")\n",
    "    return Q[Dates_string].isna().mean(axis=1).to_numpy(), Q.isna().mean(axis=0)[Dates_string].to_numpy(), Q.reset_index().query(\"`Indicator Name` == @indicator\").index[0]"
   ]
  },
  {
   "cell_type": "markdown",
   "id": "8887bef6",
   "metadata": {},
   "source": [
    "création de widgets pour l'affichage dynamique"
   ]
  },
  {
   "cell_type": "code",
   "execution_count": 7,
   "id": "a35a2b9b",
   "metadata": {},
   "outputs": [],
   "source": [
    "options = [(d.strftime('%Y'), d) for d in Dates]\n",
    "date_slider = widgets.SelectionRangeSlider(options=options,\n",
    "                                           index=(0,55),\n",
    "                                           description='Période',\n",
    "                                           disabled=False)\n",
    "\n",
    "indicators_combobox = widgets.Combobox(\n",
    "    value='Population, total',\n",
    "    placeholder='',\n",
    "    options=list(indicators),\n",
    "    description='Indicator',\n",
    "    ensure_option=True,\n",
    "    disabled=False\n",
    ")\n",
    "\n",
    "countries_combobox = widgets.Combobox(\n",
    "    value='France',\n",
    "    placeholder='',\n",
    "    options=list(countries),\n",
    "    description='Country',\n",
    "    ensure_option=True,\n",
    "    disabled=False\n",
    ")"
   ]
  },
  {
   "cell_type": "markdown",
   "id": "ddbece2d",
   "metadata": {},
   "source": [
    "creation de l'objet qui gère l'affichage dynamique"
   ]
  },
  {
   "cell_type": "code",
   "execution_count": 8,
   "id": "dbb91725",
   "metadata": {},
   "outputs": [],
   "source": [
    "# Cette classe encapsule la gestion de l'affichage dynamique des indicateurs et de leurs données manquantes\n",
    "class Displayer :\n",
    "    \n",
    "    def __init__(self, DS, indi, country):\n",
    "        self.dataset = DS\n",
    "        self.indi = indi\n",
    "        self.country = country\n",
    "        self.X = np.array(Dates)\n",
    "        self.d_start = min(self.X)\n",
    "        self.d_end = max(self.X)\n",
    "        self.mask = np.full(len(self.X), True)\n",
    "        self.fig, self.ax = None, None\n",
    "        self.fig1, self.ax1 = None, None\n",
    "        self.fig2, self.ax2 = None, None\n",
    "        self.out = widgets.Output()\n",
    "        self.indi_miss = widgets.Output()\n",
    "        self.cty_miss = widgets.Output()\n",
    "    \n",
    "    def change_dates(self, new_date_start, new_date_end):\n",
    "        self.d_start = new_date_start\n",
    "        self.d_end = new_date_end\n",
    "        self._UPDATE_MASK()\n",
    "    \n",
    "    def change_country(self, new_country):\n",
    "        self.country = new_country\n",
    "        self._country_missing()\n",
    "    \n",
    "    def change_indi(self, new_indi):\n",
    "        self.indi = new_indi\n",
    "    \n",
    "    def _UPDATE_MASK(self):\n",
    "        self.mask = np.array([self.d_start <= date <= self.d_end for date in self.X])\n",
    "    \n",
    "    def _plot(self):\n",
    "        with self.out :\n",
    "            clear_output()\n",
    "            if self.fig==None :\n",
    "                self.fig, self.ax = plt.subplots(figsize=(9,6), \n",
    "                                                 num=f\"{self.country}-{self.indi}\")\n",
    "            else :\n",
    "                self.fig.set(label = f\"{self.country}-{self.indi}\")\n",
    "            \n",
    "            try :\n",
    "                YY = get_Y_values(self.dataset, self.indi, self.country)\n",
    "            except Exception as e :\n",
    "                YY = np.full(len(self.mask), np.nan)\n",
    "            \n",
    "            fig, ax = self.fig, self.ax\n",
    "            ax.clear()\n",
    "            ax.plot(self.X[self.mask], \n",
    "                    YY[self.mask],\n",
    "                    zorder=1)\n",
    "\n",
    "            ax.grid(zorder=0)\n",
    "            fig.tight_layout()\n",
    "            Idisplay(fig)\n",
    "            Idisplay(pd.DataFrame(YY[self.mask]).apply(pd.Series.describe, axis=0).transpose())\n",
    "    \n",
    "    def _indicator_missing(self):\n",
    "        with self.indi_miss :\n",
    "            clear_output()\n",
    "            if self.fig1==None :\n",
    "                self.fig1, self.ax1 = plt.subplots(3, 1, \n",
    "                                                   figsize=(9,35), \n",
    "                                                   height_ratios = [15,10,5], \n",
    "                                                   num=f\"{self.indi[:50]}\")\n",
    "            else :\n",
    "                self.fig1.set(label = f\"{self.indi[:50]}\")\n",
    "            fig1, ax1 = self.fig1, self.ax1\n",
    "            miss_tab, miss_date, cty_index = get_indi_missing(self.dataset, self.indi, self.country)\n",
    "            N = len(miss_tab)\n",
    "            \n",
    "            ax1[0].clear()\n",
    "            bars = ax1[0].barh(range(N), miss_tab/max(miss_tab))\n",
    "            bars[cty_index].set_color('r')\n",
    "            ax1[0].set_title(f'valeurs manquantes par pays')\n",
    "            ax1[0].set_yticks([])\n",
    "            ax1[0].set_ylim(-1, N+1)\n",
    "            \n",
    "            ax1[1].clear()\n",
    "            bars = ax1[1].barh(range(len(miss_date)), miss_date/max(miss_date))\n",
    "            ax1[1].set_title(f'valeurs manquantes par année')\n",
    "            ax1[1].set_ylim(-1, len(miss_date)+1)\n",
    "            ax1[1].set_yticks(np.arange(len(Dates_string)), Dates_string)\n",
    "            \n",
    "            ax1[2].clear()\n",
    "            ax1[2].pie([miss_tab.mean(), 1-miss_tab.mean()], \n",
    "                        labels=['missing', 'data'],\n",
    "                        autopct='%1.1f%%')\n",
    "            ax1[2].set_title(f'valeurs manquantes par pays -moyenne-')\n",
    "            ax1[2].axis('equal')\n",
    "            \n",
    "            fig1.tight_layout()\n",
    "            Idisplay(EdStatsSeries.query(\"`Indicator Name`==@self.indi\"))\n",
    "            Idisplay(fig1)\n",
    "    \n",
    "    def _country_missing(self):\n",
    "        with self.cty_miss :\n",
    "            clear_output()\n",
    "            if self.fig2==None :\n",
    "                self.fig2, self.ax2 = plt.subplots(3, 1,\n",
    "                                                   figsize=(9,115), \n",
    "                                                   height_ratios = [100,10,5],\n",
    "                                                   num=f\"{self.country}\")\n",
    "            else :\n",
    "                self.fig2.set(label = f\"{self.country}\")\n",
    "            fig2, ax2 = self.fig2, self.ax2\n",
    "            miss_tab, miss_date, indi_index = get_cty_missing(self.dataset, self.indi, self.country)\n",
    "            N = len(miss_tab)\n",
    "            \n",
    "            ax2[0].clear()\n",
    "            bars = ax2[0].barh(range(N), miss_tab/max(miss_tab))\n",
    "            bars[indi_index].set_color('r')\n",
    "            ax2[0].set_title(f'valeurs manquantes par indicateur')\n",
    "            ax2[0].set_yticks([])\n",
    "            ax2[0].set_ylim(-1, N+1)\n",
    "            \n",
    "            ax2[1].clear()\n",
    "            bars = ax2[1].barh(range(len(miss_date)), miss_date/max(miss_date))\n",
    "            ax2[1].set_title(f'valeurs manquantes par année')\n",
    "            ax2[1].set_ylim(-1, len(miss_date)+1)\n",
    "            ax2[1].set_yticks(np.arange(len(Dates_string)), Dates_string)\n",
    "            \n",
    "            ax2[2].clear()\n",
    "            ax2[2].pie([miss_tab.mean(), 1-miss_tab.mean()], \n",
    "                        labels=['manquant', 'donnees'],\n",
    "                        autopct='%1.1f%%')\n",
    "            ax2[2].set_title(f'valeurs manquantes par indicateur -moyenne-')\n",
    "            ax2[2].axis('equal')\n",
    "            \n",
    "            fig2.tight_layout()\n",
    "            Idisplay(EdStatsCountry.query(\"`Table Name`==@self.country\"))\n",
    "            Idisplay(fig2)\n",
    "    \n",
    "    def display(self):\n",
    "        self._plot()\n",
    "        self._indicator_missing()\n",
    "        self._country_missing()"
   ]
  },
  {
   "cell_type": "markdown",
   "id": "ed5b5ef2",
   "metadata": {},
   "source": [
    "mise en relation de l'objet qui gère l'affichage et des widgets qui récupèrent les données"
   ]
  },
  {
   "cell_type": "code",
   "execution_count": 9,
   "id": "98ec84ec",
   "metadata": {
    "scrolled": false
   },
   "outputs": [],
   "source": [
    "Data_displayer = Displayer(EdStatsData, \"Population, total\", \"France\")\n",
    "\n",
    "def date_slider_eventhandler(change):\n",
    "    Data_displayer.change_dates(*change.new)\n",
    "    Data_displayer.display()\n",
    "def indicators_combobox_eventhandler(change):\n",
    "    Data_displayer.change_indi(change.new)\n",
    "    Data_displayer.display()\n",
    "def countries_combobox_eventhandler(change):\n",
    "    Data_displayer.change_country(change.new)\n",
    "    Data_displayer.display()\n",
    "\n",
    "date_slider.observe(date_slider_eventhandler, names='value')\n",
    "indicators_combobox.observe(indicators_combobox_eventhandler, names='value')\n",
    "countries_combobox.observe(countries_combobox_eventhandler, names='value')"
   ]
  },
  {
   "cell_type": "code",
   "execution_count": 10,
   "id": "72caa532",
   "metadata": {
    "pycharm": {
     "is_executing": true
    },
    "scrolled": false
   },
   "outputs": [
    {
     "data": {
      "application/vnd.jupyter.widget-view+json": {
       "model_id": "ed33b7e3a1a541a789ea239c6daab5b9",
       "version_major": 2,
       "version_minor": 0
      },
      "text/plain": [
       "Tab(children=(VBox(children=(Output(), SelectionRangeSlider(description='Période', index=(0, 55), options=(('1…"
      ]
     },
     "metadata": {},
     "output_type": "display_data"
    }
   ],
   "source": [
    "tab = widgets.Tab()\n",
    "tab.children = [widgets.VBox([Data_displayer.out, date_slider, indicators_combobox, countries_combobox]), \n",
    "                widgets.VBox([Data_displayer.indi_miss, indicators_combobox]),\n",
    "                widgets.VBox([Data_displayer.cty_miss, countries_combobox])]\n",
    "tab.titles = (\"plot\", \"indicator\", \"country\")\n",
    "Idisplay(tab)\n",
    "Data_displayer.display()"
   ]
  },
  {
   "cell_type": "markdown",
   "id": "7a28cd34",
   "metadata": {},
   "source": [
    "***\n",
    "# Evaluation"
   ]
  },
  {
   "cell_type": "markdown",
   "id": "4843ead3",
   "metadata": {},
   "source": [
    "### selection de la periode d'analyse"
   ]
  },
  {
   "cell_type": "markdown",
   "id": "37f33f96",
   "metadata": {},
   "source": [
    "on se concentre sur la partie entre 2005 et 2015 car c'est une période à la fois suffisamment récente et les années autour de 2010 sont les plus renseignées au niveau des indicateurs.\n",
    "Idéalement, les données prises en compte seront celles de l'année 2015, sinon on prendra la valeur la plus récente."
   ]
  },
  {
   "cell_type": "code",
   "execution_count": 11,
   "id": "820b3f81",
   "metadata": {},
   "outputs": [
    {
     "data": {
      "image/png": "[encoded data removed]",
      "text/plain": [
       "<Figure size 900x500 with 1 Axes>"
      ]
     },
     "metadata": {},
     "output_type": "display_data"
    }
   ],
   "source": [
    "fig4, ax4 = plt.subplots(figsize=(9,5))\n",
    "\n",
    "ax4.bar(np.arange(65), \n",
    "        np.isnan(np.array(EdStatsData.to_numpy()[:,4:-1], dtype=float)).mean(axis=0), \n",
    "        color=['C00']*35+['C01']*11+['C00']*20)\n",
    "ax4.set_xticks(np.arange(65), labels=Dates_string, rotation=90, fontsize=7)\n",
    "ax4.set_ylim(0,1)\n",
    "fig4.set(label='Données manquantes par année')\n",
    "\n",
    "Idisplay(fig4)"
   ]
  },
  {
   "cell_type": "markdown",
   "id": "15823d7f",
   "metadata": {},
   "source": [
    "## repérage des indicateurs"
   ]
  },
  {
   "cell_type": "markdown",
   "id": "f9cbdcff",
   "metadata": {},
   "source": [
    "Définition des fonctions utiles à l'élaboration d'indicateurs pertinents pour comparer les pays"
   ]
  },
  {
   "cell_type": "code",
   "execution_count": 12,
   "id": "59b2e7e0",
   "metadata": {},
   "outputs": [],
   "source": [
    "def stats_indicator(indi:str):\n",
    "    \"\"\"\n",
    "    prend un indicateur et donne ses statistiques sur tout le dataset\n",
    "\n",
    "    :param indi: l'indicateur considéré\n",
    "    :return: Un dataset généré avec pd.DataFrame.describe()\n",
    "    \"\"\"\n",
    "    Q = EdStatsData.query(\"`Indicator Name` == @indi\")\n",
    "    return pd.DataFrame(Q[~Q[\"Country Name\"].isin(regions)][Dates_string].to_numpy().ravel()).dropna().round(5).describe()\n",
    "\n",
    "def income_cat(x):\n",
    "    '''\n",
    "    récupère une chaine de caractère de catégorie et renvoie l'entier correspondant\n",
    "    ces catégories sont numérotées de 0 à 4 classées par ordre croissant\n",
    "    Low income < Lower middle income < Upper middle income < High income: nonOECD < High income: OECD\n",
    "    '''\n",
    "    if x!=x : #vrai ssi x est NaN\n",
    "        return x\n",
    "    else :\n",
    "        return income_int[list(income_groups).index(x)]\n",
    "\n",
    "def get_lims(DS, indi:str):\n",
    "    \"\"\"\n",
    "    renvoie les valeurs minimum et maximum relatives à un indicateur\n",
    "    \"\"\"\n",
    "    Q = DS.query(\"`Indicator Name`==@indi\")[Dates_string].to_numpy().ravel()\n",
    "    Q = Q[~np.isnan(Q)]\n",
    "    return Q.min(), Q.max()\n",
    "\n",
    "def get_weighted(DS, indi:str, by:str):\n",
    "    \"\"\"\n",
    "    Cette fonction utilise un dataset et un indicateur pour renvoyer un nouveau dataset des données de l'indicateur\n",
    "    pondérées par la valeur de la population chaque année.\n",
    "\n",
    "    :param DS: le dataset\n",
    "    :param indi: l'indicateur qu'il faut pondérer\n",
    "    :return: Le dataset résultat avec les mêmes colonnes mais de nouvelles lignes.\n",
    "    \"\"\"\n",
    "    A = DS.copy()\n",
    "    A.sort_values(\"Country Name\", 0)\n",
    "    Pop = A.query(\"`Indicator Name` == @by\")\n",
    "    Indi = A.query(\"`Indicator Name` == @indi\")\n",
    "    Pop.index = Indi.index = pd.Index(range(len(DS), len(DS)+len(Pop)))\n",
    "    Indi[Dates_string] = Indi[Dates_string].div(Pop[Dates_string])\n",
    "    Indi[\"Indicator Name\"] = Indi[\"Indicator Name\"] + \" weighted by population\"\n",
    "    return Indi\n",
    "\n",
    "def basic_stats(indi:str):\n",
    "    \"\"\"\n",
    "    affiche des stats des base pour un indicateur\n",
    "    - la ligne correspondante dans EdStatsSeries\n",
    "    \"\"\"\n",
    "    \n",
    "    Out1 = widgets.Output()\n",
    "    Out2 = widgets.Output()\n",
    "    Out3 = widgets.Output()\n",
    "    H = widgets.HBox([Out2, Out3])\n",
    "    V = widgets.VBox([Out1, H])\n",
    "    \n",
    "    miss_tab = EdStatsData.query(\"`Indicator Name` == @indi\")[Dates_string].isna().mean(axis=1).to_numpy()\n",
    "\n",
    "    fig5, ax5 = plt.subplots(figsize=(3,3))\n",
    "\n",
    "    ax5.pie([miss_tab.mean(), 1-miss_tab.mean()],\n",
    "            labels=['manquant', 'donnees'],\n",
    "            autopct='%1.1f%%',\n",
    "            labeldistance=0.3)\n",
    "    ax5.axis('equal')\n",
    "\n",
    "    with Out1 :\n",
    "        Q = EdStatsSeries.query(\"`Indicator Name` == @indi\")\n",
    "        Idisplay(HTML(markdown.markdown(f'***\\n## {indi}\\n{Q[\"Long definition\"].to_numpy()[0]}')))\n",
    "        Idisplay(Q.dropna(axis=1))\n",
    "\n",
    "    with Out2 :\n",
    "        Idisplay(stats_indicator(indi))\n",
    "    \n",
    "    with Out3 :\n",
    "        Idisplay(fig5)\n",
    "        \n",
    "    return V"
   ]
  },
  {
   "cell_type": "markdown",
   "id": "227813e3",
   "metadata": {},
   "source": [
    "Définition d'un multiIndex pour classifier les indicateurs choisis dans quatre catégories"
   ]
  },
  {
   "cell_type": "code",
   "execution_count": 13,
   "id": "3144ccec",
   "metadata": {},
   "outputs": [],
   "source": [
    "Mindex = [('communication', 'Internet users (per 100 people)'),\n",
    "          ('communication', 'Personal computers (per 100 people)'),\n",
    "          ('economics',     'Income Group'),\n",
    "          ('economics',     'GNI per capita, Atlas method (current US$)'),\n",
    "          ('demographics',  'Population, total'),\n",
    "          ('demographics',  'Population growth (annual %)'),\n",
    "          ('demographics',  'Population, ages 13-19, total'),\n",
    "          ('education',     'Enrolment in primary education, both sexes (number) weighted by population'),\n",
    "          ('education',     'Enrolment in secondary education, both sexes (number) weighted by population'),\n",
    "          ('education',     'Enrolment in tertiary education, all programmes, both sexes (number) weighted by population'),\n",
    "          ('total',         'moyenne generale')]"
   ]
  },
  {
   "cell_type": "markdown",
   "id": "44345650",
   "metadata": {},
   "source": [
    "Affichage dans un widget les statistiques basiques des indicateurs choisis"
   ]
  },
  {
   "cell_type": "code",
   "execution_count": 14,
   "id": "0958ebcd",
   "metadata": {
    "scrolled": false
   },
   "outputs": [
    {
     "data": {
      "application/vnd.jupyter.widget-view+json": {
       "model_id": "2e99d2f17aeb41a381c39444c4ff32f6",
       "version_major": 2,
       "version_minor": 0
      },
      "text/plain": [
       "Tab(children=(Output(), Output(), Output(), Output()), selected_index=0, titles=('communication', 'economics',…"
      ]
     },
     "metadata": {},
     "output_type": "display_data"
    }
   ],
   "source": [
    "Out = [widgets.Output() for i in range(4)]\n",
    "\n",
    "explo_indi = widgets.Tab()\n",
    "explo_indi.children = Out\n",
    "explo_indi.titles = ['communication', 'economics', 'demographics', 'education']\n",
    "\n",
    "with Out[0] :\n",
    "    Idisplay(basic_stats('Internet users (per 100 people)'))\n",
    "    Idisplay(basic_stats('Personal computers (per 100 people)'))\n",
    "\n",
    "income_groups = pd.unique(EdStatsCountry[\"Income Group\"].dropna())\n",
    "income_int = [3, 0, 2, 1, 4]\n",
    "\n",
    "with Out[1] :\n",
    "    Idisplay(HTML(markdown.markdown('''## Income Group\\nThe categories differentiating the countries depending on their income levels''')))\n",
    "    Idisplay(pd.DataFrame(EdStatsCountry[\"Income Group\"].value_counts()))\n",
    "    \n",
    "    Idisplay(basic_stats('GNI per capita, Atlas method (current US$)'))\n",
    "\n",
    "with Out[2] :\n",
    "    Idisplay(basic_stats('Population, total'))\n",
    "    Idisplay(basic_stats('Population growth (annual %)'))\n",
    "    Idisplay(basic_stats('Population, ages 13-19, total'))\n",
    "\n",
    "with Out[3] :\n",
    "    Idisplay(basic_stats('Enrolment in primary education, both sexes (number)'))\n",
    "    Idisplay(basic_stats('Enrolment in secondary education, both sexes (number)'))\n",
    "    Idisplay(basic_stats('Enrolment in tertiary education, all programmes, both sexes (number)'))\n",
    "\n",
    "EdStatsData = pd.concat((EdStatsData, \n",
    "                         get_weighted(EdStatsData, 'Enrolment in primary education, both sexes (number)', 'Population, ages 13-19, total'),\n",
    "                         get_weighted(EdStatsData, 'Enrolment in secondary education, both sexes (number)', 'Population, ages 13-19, total'),\n",
    "                         get_weighted(EdStatsData, 'Enrolment in tertiary education, all programmes, both sexes (number)', 'Population, ages 13-19, total')))\n",
    "\n",
    "Idisplay(explo_indi)"
   ]
  },
  {
   "cell_type": "markdown",
   "id": "5bca1bfc",
   "metadata": {
    "pycharm": {
     "is_executing": true
    }
   },
   "source": [
    "# notation"
   ]
  },
  {
   "cell_type": "markdown",
   "id": "91497660",
   "metadata": {},
   "source": [
    "chaque indicateur est associé à ses valeurs limites pour les calculs"
   ]
  },
  {
   "cell_type": "code",
   "execution_count": 15,
   "id": "c78856e6",
   "metadata": {},
   "outputs": [],
   "source": [
    "selection =[('Internet users (per 100 people)', 0, 100, False),\n",
    "            ('Personal computers (per 100 people)', 0, 100, False),\n",
    "            ('Income Group', 0, 4, False),\n",
    "            ('GNI per capita, Atlas method (current US$)', None, None, False),\n",
    "            ('Population, total', None, None, True),\n",
    "            ('Population growth (annual %)', None, None, True),\n",
    "            ('Population, ages 13-19, total', None, None, True),\n",
    "            ('Enrolment in primary education, both sexes (number) weighted by population', None, None, False),\n",
    "            ('Enrolment in secondary education, both sexes (number) weighted by population', None, None, False),\n",
    "            ('Enrolment in tertiary education, all programmes, both sexes (number) weighted by population', None, None, False)]"
   ]
  },
  {
   "cell_type": "markdown",
   "id": "1fd36a9d",
   "metadata": {},
   "source": [
    "création des fonctions de calcul de notes"
   ]
  },
  {
   "cell_type": "code",
   "execution_count": 16,
   "id": "187a4380",
   "metadata": {},
   "outputs": [],
   "source": [
    "def normaliser(p:float, m:float, M:float, use_log=False):\n",
    "    \"\"\"normalise le point de données p entre m et M (m<M)\"\"\"\n",
    "    if use_log :\n",
    "        return np.log(p-m)/np.log(M-m)\n",
    "    return (p-m)/(M-m)\n",
    "\n",
    "def meilleur(DS, indi:str, cou:str):\n",
    "    \"\"\"\n",
    "    renvoie la meilleure valeur pour l'indicateur et le pays donné\n",
    "    On va chercher la valeur pour l'année 2015,\n",
    "    sinon la première valeur antérieure disponible,\n",
    "    sinon la moyenne de l'année 2015 pour l'indicateur\n",
    "    \"\"\"\n",
    "    for y in get_Y_values(DS, indi, cou)[::-1]:\n",
    "        if y==y and isinstance(y, float):\n",
    "            return y\n",
    "    \n",
    "    Q = DS.query(\"`Indicator Name`==@indi\")\n",
    "    q1 = Q['2015'].dropna().mean()\n",
    "    if q1 :\n",
    "        return q1\n",
    "    \n",
    "    q2 = Q[Dates_string].to_numpy().ravel()\n",
    "    return q2[~np.isnan(q2)].mean()\n",
    "\n",
    "def note_indicateur(country, indicator, m=0, M=1, use_log=False):\n",
    "    \"\"\"\n",
    "    Cette fonction prend un pays et trois informations d'indicateur : nom, portée min, portée max.\n",
    "    Elle renvoie alors la note de l'indicateur pour le pays comme la moyenne des valeurs normalisées entre 2005 et 2015\n",
    "\n",
    "    :param country: le nom du pays\n",
    "    :param indicator: l'indicateur dont on veut calculer la note\n",
    "    :param m: minimum de l'indicateur, 0 par défaut (optionnel)\n",
    "    :param M: maximum de l'indicateur, 1 par défaut (optionnel)\n",
    "    :param use_log: utilisation ou non de l'échelle logarithmique, False par défaut (optionnel)\n",
    "    :return: La note de l'indicateur, moyenne des valeurs sur la période d'étude.\n",
    "    \"\"\"\n",
    "    res = pd.NA\n",
    "    if (m, M) == (None, None) :\n",
    "        m, M = get_lims(EdStatsData, indicator)\n",
    "    \n",
    "    if indicator != 'Income Group': \n",
    "        return normaliser(meilleur(EdStatsData, indicator, country), m, M, use_log)\n",
    "    else :\n",
    "        Y = EdStatsCountry.query(\"`Table Name`==@country\")\n",
    "        return normaliser(income_cat(Y[\"Income Group\"].iloc[0]), m, M)\n",
    "\n",
    "def note(country, PB=None):\n",
    "    \"\"\"\n",
    "    Cette fonction prend en entrée un pays et renvoie un dataset de chaque note qu'elle a obtenu pour tous les indicateurs,\n",
    "    plus le score moyen\n",
    "    \n",
    "    :param country: Le pays à analyser\n",
    "    :param PB: un paramètre optionnel pour faire évoluer une barre de chargement\n",
    "    :return: Un dataset des notes.\n",
    "    \"\"\"\n",
    "    if PB :\n",
    "        PB.value = PB.value+1\n",
    "    \n",
    "    bull_index = pd.MultiIndex.from_tuples(Mindex, names=[\"categorie\", \"indicateur\"])\n",
    "    V = np.array([round(20*note_indicateur(country, *s), 2) for s in selection])\n",
    "    res = pd.DataFrame(list(V)+[V[~np.isnan(V)].mean()], \n",
    "                       index=bull_index, \n",
    "                       columns=[\"note\"],\n",
    "                       dtype=float)\n",
    "    res.columns.name = country\n",
    "    return res"
   ]
  },
  {
   "cell_type": "markdown",
   "id": "3cedaa9a",
   "metadata": {},
   "source": [
    "affichage du bulletin de notes pour un pays"
   ]
  },
  {
   "cell_type": "code",
   "execution_count": 17,
   "id": "7ac136a2",
   "metadata": {
    "scrolled": false
   },
   "outputs": [
    {
     "data": {
      "application/vnd.jupyter.widget-view+json": {
       "model_id": "5049bebb17d143b5911f303355e9e768",
       "version_major": 2,
       "version_minor": 0
      },
      "text/plain": [
       "Combobox(value='France', description='Country', ensure_option=True, options=('Aruba', 'Afghanistan', 'Angola',…"
      ]
     },
     "metadata": {},
     "output_type": "display_data"
    },
    {
     "data": {
      "text/html": [
       "<div>\n",
       "<style scoped>\n",
       "    .dataframe tbody tr th:only-of-type {\n",
       "        vertical-align: middle;\n",
       "    }\n",
       "\n",
       "    .dataframe tbody tr th {\n",
       "        vertical-align: top;\n",
       "    }\n",
       "\n",
       "    .dataframe thead th {\n",
       "        text-align: right;\n",
       "    }\n",
       "</style>\n",
       "<table border=\"1\" class=\"dataframe\">\n",
       "  <thead>\n",
       "    <tr style=\"text-align: right;\">\n",
       "      <th></th>\n",
       "      <th>France</th>\n",
       "      <th>note</th>\n",
       "    </tr>\n",
       "    <tr>\n",
       "      <th>categorie</th>\n",
       "      <th>indicateur</th>\n",
       "      <th></th>\n",
       "    </tr>\n",
       "  </thead>\n",
       "  <tbody>\n",
       "    <tr>\n",
       "      <th rowspan=\"2\" valign=\"top\">communication</th>\n",
       "      <th>Internet users (per 100 people)</th>\n",
       "      <td>17.120</td>\n",
       "    </tr>\n",
       "    <tr>\n",
       "      <th>Personal computers (per 100 people)</th>\n",
       "      <td>12.940</td>\n",
       "    </tr>\n",
       "    <tr>\n",
       "      <th rowspan=\"2\" valign=\"top\">economics</th>\n",
       "      <th>Income Group</th>\n",
       "      <td>20.000</td>\n",
       "    </tr>\n",
       "    <tr>\n",
       "      <th>GNI per capita, Atlas method (current US$)</th>\n",
       "      <td>4.160</td>\n",
       "    </tr>\n",
       "    <tr>\n",
       "      <th rowspan=\"3\" valign=\"top\">demographics</th>\n",
       "      <th>Population, total</th>\n",
       "      <td>15.850</td>\n",
       "    </tr>\n",
       "    <tr>\n",
       "      <th>Population growth (annual %)</th>\n",
       "      <td>14.210</td>\n",
       "    </tr>\n",
       "    <tr>\n",
       "      <th>Population, ages 13-19, total</th>\n",
       "      <td>16.350</td>\n",
       "    </tr>\n",
       "    <tr>\n",
       "      <th rowspan=\"3\" valign=\"top\">education</th>\n",
       "      <th>Enrolment in primary education, both sexes (number) weighted by population</th>\n",
       "      <td>7.680</td>\n",
       "    </tr>\n",
       "    <tr>\n",
       "      <th>Enrolment in secondary education, both sexes (number) weighted by population</th>\n",
       "      <td>15.120</td>\n",
       "    </tr>\n",
       "    <tr>\n",
       "      <th>Enrolment in tertiary education, all programmes, both sexes (number) weighted by population</th>\n",
       "      <td>9.570</td>\n",
       "    </tr>\n",
       "    <tr>\n",
       "      <th>total</th>\n",
       "      <th>moyenne generale</th>\n",
       "      <td>13.300</td>\n",
       "    </tr>\n",
       "  </tbody>\n",
       "</table>\n",
       "</div>"
      ],
      "text/plain": [
       "France                                                             note\n",
       "categorie     indicateur                                               \n",
       "communication Internet users (per 100 people)                    17.120\n",
       "              Personal computers (per 100 people)                12.940\n",
       "economics     Income Group                                       20.000\n",
       "              GNI per capita, Atlas method (current US$)          4.160\n",
       "demographics  Population, total                                  15.850\n",
       "              Population growth (annual %)                       14.210\n",
       "              Population, ages 13-19, total                      16.350\n",
       "education     Enrolment in primary education, both sexes (num...  7.680\n",
       "              Enrolment in secondary education, both sexes (n... 15.120\n",
       "              Enrolment in tertiary education, all programmes...  9.570\n",
       "total         moyenne generale                                   13.300"
      ]
     },
     "metadata": {},
     "output_type": "display_data"
    }
   ],
   "source": [
    "bulletin = note('France')\n",
    "\n",
    "countries_combobox = widgets.Combobox(\n",
    "    value='France',\n",
    "    placeholder='',\n",
    "    options=list(countries),\n",
    "    description='Country',\n",
    "    ensure_option=True,\n",
    "    disabled=False\n",
    ")\n",
    "\n",
    "def countries_combobox_eventhandler(change):\n",
    "    clear_output()\n",
    "    Idisplay(countries_combobox, note(change.new))\n",
    "        \n",
    "countries_combobox.observe(countries_combobox_eventhandler, names='value')\n",
    "\n",
    "Idisplay(countries_combobox, bulletin)"
   ]
  },
  {
   "cell_type": "markdown",
   "id": "8c82b264",
   "metadata": {},
   "source": [
    "Calcul de la note pour chaque pays"
   ]
  },
  {
   "cell_type": "raw",
   "id": "1e055ad7",
   "metadata": {
    "pycharm": {
     "is_executing": true
    }
   },
   "source": [
    "progressBar = widgets.IntProgress(value=0,\n",
    "                                  min=0,\n",
    "                                  max=len(countries),\n",
    "                                  description='Chargement:',\n",
    "                                  bar_style='',\n",
    "                                  style={'bar_color': 'blue'},\n",
    "                                  orientation='horizontal')\n",
    "\n",
    "Idisplay(progressBar)\n",
    "\n",
    "EdStatsCountry[\"Note\"]=EdStatsCountry[\"Table Name\"].apply(lambda x:note(x, progressBar).loc[\"total\", \"moyenne generale\"])"
   ]
  },
  {
   "cell_type": "raw",
   "id": "38efac91",
   "metadata": {},
   "source": [
    "note_min, note_max = EdStatsCountry[\"Note\"].min(), EdStatsCountry[\"Note\"].max()\n",
    "EdStatsCountry[\"Note\"] = EdStatsCountry[\"Note\"].apply(lambda x:round(20*normaliser(x, note_min, note_max), 2))"
   ]
  },
  {
   "cell_type": "markdown",
   "id": "222ee856",
   "metadata": {},
   "source": [
    "Affichage des 10 pays les mieux notés"
   ]
  },
  {
   "cell_type": "raw",
   "id": "468a1a3a",
   "metadata": {
    "pycharm": {
     "is_executing": true
    }
   },
   "source": [
    "EdStatsCountry.sort_values([\"Note\", \"Table Name\"], ascending=[False, True]).reset_index()[[\"Table Name\", \"Note\"]].head(10)"
   ]
  },
  {
   "cell_type": "code",
   "execution_count": null,
   "id": "d02df1ab",
   "metadata": {},
   "outputs": [],
   "source": []
  }
 ],
 "metadata": {
  "kernelspec": {
   "display_name": "Python 3 (ipykernel)",
   "language": "python",
   "name": "python3"
  },
  "language_info": {
   "codemirror_mode": {
    "name": "ipython",
    "version": 3
   },
   "file_extension": ".py",
   "mimetype": "text/x-python",
   "name": "python",
   "nbconvert_exporter": "python",
   "pygments_lexer": "ipython3",
   "version": "3.10.9"
  }
 },
 "nbformat": 4,
 "nbformat_minor": 5
}
