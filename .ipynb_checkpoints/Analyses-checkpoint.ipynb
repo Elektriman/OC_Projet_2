{
 "cells": [
  {
   "cell_type": "markdown",
   "id": "357d2b23",
   "metadata": {},
   "source": [
    "# Projet 2"
   ]
  },
  {
   "cell_type": "markdown",
   "id": "35c57537",
   "metadata": {},
   "source": [
    "## consigne"
   ]
  },
  {
   "cell_type": "markdown",
   "id": "8dc5d121",
   "metadata": {},
   "source": [
    "Mark, votre manager, vous a convié à une réunion pour vous présenter le projet d’expansion à l’international de l’entreprise. Il vous confie une première mission d’analyse exploratoire, pour déterminer si les données sur l’éducation de la banque mondiale permettent d’informer le projet d’expansion.\n",
    "\n",
    "Voici les différentes questions que Mark aimerait explorer, que vous avez notées durant la réunion :\n",
    "\n",
    " - Quels sont les pays avec un fort potentiel de clients pour nos services ?\n",
    " - Pour chacun de ces pays, quelle sera l’évolution de ce potentiel de clients ?\n",
    " - Dans quels pays l'entreprise doit-elle opérer en priorité ?\n",
    "Votre mission\n",
    "Mark vous a donc demandé de réaliser une analyse pré-exploratoire de ce jeu de données. Il vous a transmis cet email à la suite de la réunion :"
   ]
  },
  {
   "cell_type": "markdown",
   "id": "3bf85f82",
   "metadata": {},
   "source": [
    "***\n",
    "Hello,\n",
    "\n",
    "Les données de la Banque mondiale sont disponibles à l’adresse suivante :\n",
    "\n",
    "https://datacatalog.worldbank.org/dataset/education-statistics\n",
    "\n",
    "Ou en téléchargement direct à ce lien.\n",
    "\n",
    "Je te laisse regarder la page d'accueil qui décrit le jeu de données. En résumé, l’organisme “EdStats All Indicator Query” de la Banque mondiale répertorie 4000 indicateurs internationaux décrivant l’accès à l’éducation, l’obtention de diplômes et des informations relatives aux professeurs, aux dépenses liées à l’éducation... Tu trouveras plus d'info sur ce site :\n",
    "\n",
    "http://datatopics.worldbank.org/education/\n",
    "\n",
    "Pour la pré-analyse, pourrais-tu :\n",
    "\n",
    " - Valider la qualité de ce jeu de données (comporte-t-il beaucoup de données manquantes, dupliquées ?)\n",
    " - Décrire les informations contenues dans le jeu de données (nombre de colonnes ? nombre de lignes ?)\n",
    " - Sélectionner les informations qui semblent pertinentes pour répondre à la problématique (quelles sont les colonnes contenant des informations qui peuvent être utiles pour répondre à la problématique de l’entreprise ?)\n",
    " - Déterminer des ordres de grandeurs des indicateurs statistiques classiques pour les différentes zones géographiques et pays du monde (moyenne/médiane/écart-type par pays et par continent ou bloc géographique)\n",
    " \n",
    "Ton travail va nous permettre de déterminer si ce jeu de données peut informer les décisions d'ouverture vers de nouveaux pays. On va partager ton analyse avec le board, alors merci de soigner la présentation et de l'illustrer avec des graphiques pertinents et lisibles !\n",
    "***"
   ]
  },
  {
   "cell_type": "markdown",
   "id": "56d9d276",
   "metadata": {},
   "source": [
    "Livrables attendus\n",
    " - Un notebook comportant les analyses pré-exploratoires réalisées (non cleané, pour comprendre votre démarche).\n",
    " - Un support de présentation pour la soutenance."
   ]
  },
  {
   "cell_type": "markdown",
   "id": "dd219335",
   "metadata": {},
   "source": [
    "## import des bibliothèques"
   ]
  },
  {
   "cell_type": "code",
   "execution_count": 1,
   "id": "181e051a",
   "metadata": {},
   "outputs": [],
   "source": [
    "import numpy as np\n",
    "import pandas as pd\n",
    "%matplotlib notebook\n",
    "import matplotlib.pyplot as plt\n",
    "import seaborn as sns\n",
    "import math\n",
    "import missingno as msno\n",
    "import ipywidgets as widgets\n",
    "\n",
    "from datetime import datetime, timezone, timedelta, date\n",
    "from IPython.display import display as Idisplay\n",
    "from IPython.display import clear_output\n",
    "from ipywidgets.embed import embed_minimal_html\n",
    "\n",
    "import warnings\n",
    "warnings.filterwarnings('ignore')"
   ]
  },
  {
   "cell_type": "markdown",
   "id": "6aeb5283",
   "metadata": {},
   "source": [
    "## import des données"
   ]
  },
  {
   "cell_type": "code",
   "execution_count": 2,
   "id": "ff04bd0e",
   "metadata": {
    "pycharm": {
     "is_executing": true
    }
   },
   "outputs": [],
   "source": [
    "EdStatsCountry = pd.read_csv(\"csv_data/EdStatsCountry.csv\")\n",
    "EdStatsCountry_Series = pd.read_csv(\"csv_data/EdStatsCountry-Series.csv\")\n",
    "EdStatsData = pd.read_csv(\"csv_data/EdStatsData.csv\")\n",
    "EdStatsFootNote = pd.read_csv(\"csv_data/EdStatsFootNote.csv\")\n",
    "EdStatsSeries = pd.read_csv(\"csv_data/EdStatsSeries.csv\")"
   ]
  },
  {
   "cell_type": "markdown",
   "id": "6c23d6da",
   "metadata": {},
   "source": [
    "## premier regard sur les données"
   ]
  },
  {
   "cell_type": "markdown",
   "id": "082309de",
   "metadata": {},
   "source": [
    "premier coup d'oeuil avec une carte des liens entre les tables"
   ]
  },
  {
   "cell_type": "markdown",
   "id": "188482e5",
   "metadata": {},
   "source": [
    "![title](table_chart.png)"
   ]
  },
  {
   "cell_type": "markdown",
   "id": "79c0dd04",
   "metadata": {},
   "source": [
    "***\n",
    "### affichage des données manquantes sous forme de matrice binaire (Noir = manquant, Blanc = présent)"
   ]
  },
  {
   "cell_type": "code",
   "execution_count": 3,
   "id": "654fc462",
   "metadata": {
    "pycharm": {
     "is_executing": true
    },
    "scrolled": false
   },
   "outputs": [],
   "source": [
    "Tables = [EdStatsCountry, EdStatsCountry_Series, EdStatsData, EdStatsFootNote, EdStatsSeries]\n",
    "T_Names = [\"EdStatsCountry\", \"EdStatsCountry-Series\", \"EdStatsData\", \"EdStatsFootNote\", \"EdStatsSeries\"]\n",
    "for t,n in zip(Tables, T_Names):\n",
    "    t.name = n\n",
    "Stats = {}\n",
    "\n",
    "def draw_missing_values(t, height=7):\n",
    "    fig, ax = plt.subplots(figsize=(9,height))\n",
    "    check = np.vectorize(lambda x : x!=x)\n",
    "    Stats[t.name] = {\"missing\" : check(t.to_numpy()), \"data\" : t}\n",
    "    msno.matrix(t, ax=ax, sparkline=False)\n",
    "    ax.set_title(t.name)\n",
    "    fig.tight_layout(pad=2)"
   ]
  },
  {
   "cell_type": "markdown",
   "id": "fa38b490",
   "metadata": {
    "pycharm": {
     "is_executing": true
    }
   },
   "source": [
    "draw_missing_values(EdStatsCountry, 10)"
   ]
  },
  {
   "cell_type": "markdown",
   "id": "6ff7afc0",
   "metadata": {
    "pycharm": {
     "is_executing": true
    },
    "scrolled": false
   },
   "source": [
    "draw_missing_values(EdStatsCountry_Series)"
   ]
  },
  {
   "cell_type": "markdown",
   "id": "6ec17e63",
   "metadata": {
    "pycharm": {
     "is_executing": true
    }
   },
   "source": [
    "draw_missing_values(EdStatsData)"
   ]
  },
  {
   "cell_type": "markdown",
   "id": "a7afdc86",
   "metadata": {
    "pycharm": {
     "is_executing": true
    }
   },
   "source": [
    "draw_missing_values(EdStatsFootNote)"
   ]
  },
  {
   "cell_type": "markdown",
   "id": "cd6e7a12",
   "metadata": {
    "pycharm": {
     "is_executing": true
    }
   },
   "source": [
    "draw_missing_values(EdStatsSeries)"
   ]
  },
  {
   "cell_type": "markdown",
   "id": "071094fa",
   "metadata": {},
   "source": [
    "***\n",
    "### sélection des indicateurs pertinents"
   ]
  },
  {
   "cell_type": "code",
   "execution_count": 4,
   "id": "57b7bf1f",
   "metadata": {
    "pycharm": {
     "is_executing": true
    },
    "scrolled": false
   },
   "outputs": [],
   "source": [
    "indicators = np.unique(EdStatsData[\"Indicator Name\"].to_numpy())\n",
    "\n",
    "selection_mask = np.array([n in indicators for n in EdStatsSeries[\"Indicator Name\"]])\n",
    "selection_codes = EdStatsSeries[\"Series Code\"][selection_mask].to_numpy()\n",
    "\n",
    "countries = np.unique(EdStatsData[\"Country Name\"].to_numpy())\n",
    "\n",
    "code_mask = np.array([c in selection_codes for c in EdStatsData[\"Indicator Code\"]])\n",
    "state_mask = np.array([c in countries for c in EdStatsData[\"Country Name\"]])"
   ]
  },
  {
   "cell_type": "code",
   "execution_count": 5,
   "id": "dab183c1",
   "metadata": {
    "pycharm": {
     "is_executing": true
    }
   },
   "outputs": [],
   "source": [
    "def get_Y_values(dataframe, indicator:str, country:str):\n",
    "    X_string = [str(x.year) for x in X]\n",
    "    indicator_mask = np.array([i == indicator for i in EdStatsData[\"Indicator Name\"].to_numpy()])\n",
    "    country_mask = np.array([c == country for c in EdStatsData[\"Country Name\"].to_numpy()])\n",
    "    return EdStatsData[X_string][indicator_mask*country_mask].to_numpy().ravel()\n",
    "\n",
    "def get_indi_missing(dataframe, indicator:str):\n",
    "    X_string = [str(x.year) for x in X]\n",
    "    indicator_mask = np.array([i == indicator for i in EdStatsData[\"Indicator Name\"].to_numpy()])\n",
    "    N = len(EdStatsData[X_string][indicator_mask].to_numpy().ravel())\n",
    "    return EdStatsData[X_string][indicator_mask].isna().sum(axis=1).to_numpy(), N\n",
    "\n",
    "def get_cty_missing(dataframe, country:str):\n",
    "    X_string = [str(x.year) for x in X]\n",
    "    country_mask = np.array([c == country for c in EdStatsData[\"Country Name\"].to_numpy()])\n",
    "    N = len(EdStatsData[X_string][country_mask].to_numpy().ravel())\n",
    "    return EdStatsData[X_string][country_mask].isna().sum(axis=1).to_numpy(), N"
   ]
  },
  {
   "cell_type": "code",
   "execution_count": 6,
   "id": "a7a4c0c1",
   "metadata": {
    "pycharm": {
     "is_executing": true
    }
   },
   "outputs": [],
   "source": [
    "X = [date(year, 1, 1) for year in list(range(1970,2018,1))+list(range(2020,2101,5))]\n",
    "X_string = [str(x.year) for x in X]"
   ]
  },
  {
   "cell_type": "code",
   "execution_count": 7,
   "id": "a35a2b9b",
   "metadata": {
    "pycharm": {
     "is_executing": true
    }
   },
   "outputs": [],
   "source": [
    "dates = X\n",
    "options = [(d.strftime('%Y'), d) for d in dates]\n",
    "date_slider = widgets.SelectionRangeSlider(options=options,\n",
    "                                           index=(0,55),\n",
    "                                           description='Période',\n",
    "                                           disabled=False)\n",
    "\n",
    "indicators_combobox = widgets.Combobox(\n",
    "    value='Population, total',\n",
    "    placeholder='',\n",
    "    options=list(indicators),\n",
    "    description='Indicator',\n",
    "    ensure_option=True,\n",
    "    disabled=False\n",
    ")\n",
    "\n",
    "countries_combobox = widgets.Combobox(\n",
    "    value='France',\n",
    "    placeholder='',\n",
    "    options=list(countries),\n",
    "    description='Country',\n",
    "    ensure_option=True,\n",
    "    disabled=False\n",
    ")"
   ]
  },
  {
   "cell_type": "code",
   "execution_count": 8,
   "id": "dbb91725",
   "metadata": {
    "pycharm": {
     "is_executing": true
    }
   },
   "outputs": [],
   "source": [
    "class Displayer :\n",
    "    \n",
    "    def __init__(self, DS, code, country):\n",
    "        self.dataset = DS\n",
    "        self.code = code\n",
    "        self.country = country\n",
    "        self.X = np.array(dates)\n",
    "        self.d_start = min(self.X)\n",
    "        self.d_end = max(self.X)\n",
    "        self.mask = np.full(len(self.X), True)\n",
    "        self.fig, self.ax = None, None\n",
    "        self.fig1, self.ax1 = None, None\n",
    "        self.fig2, self.ax2 = None, None\n",
    "        self.out = widgets.Output()\n",
    "        self.indi_miss = widgets.Output()\n",
    "        self.cty_miss = widgets.Output()\n",
    "    \n",
    "    def change_dates(self, new_date_start, new_date_end):\n",
    "        self.d_start = new_date_start\n",
    "        self.d_end = new_date_end\n",
    "        self._UPDATE_MASK()\n",
    "    \n",
    "    def change_country(self, new_country):\n",
    "        self.country = new_country\n",
    "    \n",
    "    def change_code(self, new_code):\n",
    "        self.code = new_code\n",
    "    \n",
    "    def _UPDATE_MASK(self):\n",
    "        self.mask = np.array([self.d_start <= date <= self.d_end for date in self.X])\n",
    "    \n",
    "    def _plot(self):\n",
    "        self.out.clear_output()\n",
    "        with self.out :\n",
    "            if self.fig==None :\n",
    "                self.fig, self.ax = plt.subplots(figsize=(9,6))\n",
    "            fig, ax = self.fig, self.ax\n",
    "            ax.clear()\n",
    "            ax.plot(self.X[self.mask], \n",
    "                    get_Y_values(self.dataset, self.code, self.country)[self.mask],\n",
    "                    zorder=1)\n",
    "\n",
    "            ax.grid(zorder=0)\n",
    "            fig.tight_layout()\n",
    "            fig.suptitle(f\"{self.country}-{self.code}\")\n",
    "            Idisplay(fig)\n",
    "    \n",
    "    def _indicator_missing(self):\n",
    "        self.indi_miss.clear_output()\n",
    "        with self.indi_miss :\n",
    "            if self.fig1==None :\n",
    "                self.fig1, self.ax1 = plt.subplots(2,1,figsize=(9,10))\n",
    "            fig1, ax1 = self.fig1, self.ax1\n",
    "            miss_tab, N = get_indi_missing(self.dataset, self.code)\n",
    "            k = list(countries).index(self.country)\n",
    "            \n",
    "            ax1[0].clear()\n",
    "            bars = ax1[0].bar(range(len(miss_tab)), miss_tab/max(miss_tab))\n",
    "            bars[k].set_color('r')\n",
    "            ax1[0].set_title(f'valeurs manquantes par pays')\n",
    "            ax1[0].set_xticks([])\n",
    "            ax1[0].set_xlim(-1, len(miss_tab)+1)\n",
    "            \n",
    "            ax1[1].clear()\n",
    "            ax1[1].pie([miss_tab.sum()/N, 1-(miss_tab.sum()/N)], \n",
    "                        labels=['missing', 'not missing'],\n",
    "                        autopct='%1.1f%%')\n",
    "            ax1[1].set_title(f'valeurs manquantes -total-')\n",
    "            ax1[1].axis('equal')\n",
    "            \n",
    "            fig1.tight_layout()\n",
    "            fig1.suptitle(f\"{self.code[:50]}\")\n",
    "            Idisplay(fig1)\n",
    "    \n",
    "    def _country_missing(self):\n",
    "        self.cty_miss.clear_output()\n",
    "        with self.cty_miss :\n",
    "            if self.fig2==None :\n",
    "                self.fig2, self.ax2 = plt.subplots(2,1,figsize=(100,7))\n",
    "            fig2, ax2 = self.fig2, self.ax2\n",
    "            miss_tab, N = get_cty_missing(self.dataset, self.country)\n",
    "            k = list(indicators).index(self.code)\n",
    "            \n",
    "            ax2[0].clear()\n",
    "            bars = ax2[0].bar(range(len(miss_tab)), miss_tab/max(miss_tab))\n",
    "            bars[k].set_color('r')\n",
    "            ax2[0].set_title(f'valeurs manquantes par indicateur')\n",
    "            ax2[0].set_xticks([])\n",
    "            ax2[0].set_xlim(-1, len(miss_tab)+1)\n",
    "            \n",
    "            ax2[1].clear()\n",
    "            ax2[1].pie([miss_tab.sum()/N, 1-(miss_tab.sum()/N)], \n",
    "                        labels=['missing', 'not missing'],\n",
    "                        autopct='%1.1f%%')\n",
    "            ax2[1].set_title(f'valeurs manquantes -total-')\n",
    "            ax2[1].axis('equal')\n",
    "            \n",
    "            fig2.tight_layout()\n",
    "            fig2.suptitle(f\"{self.country}\")\n",
    "            Idisplay(fig2)\n",
    "    \n",
    "    def display(self):\n",
    "        self._plot()\n",
    "        self._indicator_missing()\n",
    "        self._country_missing()"
   ]
  },
  {
   "cell_type": "code",
   "execution_count": 9,
   "id": "98ec84ec",
   "metadata": {
    "pycharm": {
     "is_executing": true
    },
    "scrolled": false
   },
   "outputs": [],
   "source": [
    "D = Displayer(EdStatsData, \"Population, total\", \"France\")\n",
    "\n",
    "def date_slider_eventhandler(change):\n",
    "    D.change_dates(*change.new)\n",
    "    D.display()\n",
    "def indicators_combobox_eventhandler(change):\n",
    "    D.change_code(change.new)\n",
    "    D.display()\n",
    "def countries_combobox_eventhandler(change):\n",
    "    D.change_country(change.new)\n",
    "    D.display()\n",
    "\n",
    "date_slider.observe(date_slider_eventhandler, names='value')\n",
    "indicators_combobox.observe(indicators_combobox_eventhandler, names='value')\n",
    "countries_combobox.observe(countries_combobox_eventhandler, names='value')"
   ]
  },
  {
   "cell_type": "code",
   "execution_count": 10,
   "id": "d4fdd6df",
   "metadata": {
    "scrolled": false
   },
   "outputs": [
    {
     "data": {
      "application/vnd.jupyter.widget-view+json": {
       "model_id": "f43c4a36061a44f682481ceb7626d278",
       "version_major": 2,
       "version_minor": 0
      },
      "text/plain": [
       "Tab(children=(VBox(children=(Output(), SelectionRangeSlider(description='Période', index=(0, 55), options=(('1…"
      ]
     },
     "metadata": {},
     "output_type": "display_data"
    }
   ],
   "source": [
    "tab = widgets.Tab()\n",
    "tab.children = [widgets.VBox([D.out, date_slider, indicators_combobox, countries_combobox]), \n",
    "                widgets.VBox([D.indi_miss, indicators_combobox]),\n",
    "                widgets.VBox([D.cty_miss, countries_combobox])]\n",
    "tab.titles = (\"plot\", \"indicator\", \"country\")\n",
    "Idisplay(tab)"
   ]
  },
  {
   "cell_type": "code",
   "execution_count": null,
   "id": "112d428b",
   "metadata": {},
   "outputs": [],
   "source": []
  }
 ],
 "metadata": {
  "kernelspec": {
   "display_name": "Python 3 (ipykernel)",
   "language": "python",
   "name": "python3"
  },
  "language_info": {
   "codemirror_mode": {
    "name": "ipython",
    "version": 3
   },
   "file_extension": ".py",
   "mimetype": "text/x-python",
   "name": "python",
   "nbconvert_exporter": "python",
   "pygments_lexer": "ipython3",
   "version": "3.10.7"
  }
 },
 "nbformat": 4,
 "nbformat_minor": 5
}
